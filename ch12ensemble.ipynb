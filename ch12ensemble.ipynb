{
 "cells": [
  {
   "cell_type": "code",
   "execution_count": 1,
   "metadata": {},
   "outputs": [],
   "source": [
    "import numpy as np               \n",
    "import matplotlib.pyplot as plt  \n",
    "import pandas as pd\n",
    "from sklearn import tree\n",
    "from sklearn import ensemble\n",
    "from sklearn import datasets "
   ]
  },
  {
   "cell_type": "markdown",
   "metadata": {},
   "source": [
    "# 決定木"
   ]
  },
  {
   "cell_type": "code",
   "execution_count": 2,
   "metadata": {},
   "outputs": [
    {
     "data": {
      "text/plain": [
       "0.0"
      ]
     },
     "execution_count": 2,
     "metadata": {},
     "output_type": "execute_result"
    }
   ],
   "source": [
    "d = datasets.load_wine()              # wineデータ読込み\n",
    "dt = tree.DecisionTreeClassifier()    # 決定木\n",
    "dt.fit(d.data, d.target)              # フィッティング\n",
    "1-dt.score(d.data,d.target)           # トレーニング誤差"
   ]
  },
  {
   "cell_type": "code",
   "execution_count": 3,
   "metadata": {},
   "outputs": [
    {
     "data": {
      "text/plain": [
       "0.022471910112359605"
      ]
     },
     "execution_count": 3,
     "metadata": {},
     "output_type": "execute_result"
    }
   ],
   "source": [
    "dt.set_params(max_depth=3)            # 木の深さの最大値を設定\n",
    "dt.fit(d.data, d.target)              # フィッティング\n",
    "1-dt.score(d.data,d.target)           # トレーニング誤差"
   ]
  },
  {
   "cell_type": "code",
   "execution_count": 4,
   "metadata": {},
   "outputs": [],
   "source": [
    "import graphviz            # graphviz.Source を使う\n",
    "# graphvizで決定木を描画\n",
    "graph = graphviz.Source(tree.export_graphviz(dt,out_file=None))\n",
    "# graph.render(\"DTplot\")     # 図をファイルに出力"
   ]
  },
  {
   "cell_type": "markdown",
   "metadata": {},
   "source": [
    "# バギング"
   ]
  },
  {
   "cell_type": "code",
   "execution_count": 5,
   "metadata": {},
   "outputs": [
    {
     "data": {
      "text/plain": [
       "array([3, 1, 3, 2, 0])"
      ]
     },
     "execution_count": 5,
     "metadata": {},
     "output_type": "execute_result"
    }
   ],
   "source": [
    "# 1,2,3,4,5 の復元抽出(リサンプリング)\n",
    "np.random.choice(5,5)"
   ]
  },
  {
   "cell_type": "code",
   "execution_count": 6,
   "metadata": {},
   "outputs": [
    {
     "data": {
      "text/plain": [
       "array([3, 0, 2, 4, 1])"
      ]
     },
     "execution_count": 6,
     "metadata": {},
     "output_type": "execute_result"
    }
   ],
   "source": [
    "# 0，1,2,3,4 の非復元抽出\n",
    "np.random.choice(5,5,replace=False)"
   ]
  },
  {
   "cell_type": "code",
   "execution_count": 7,
   "metadata": {},
   "outputs": [
    {
     "data": {
      "text/plain": [
       "0.040000000000000036"
      ]
     },
     "execution_count": 7,
     "metadata": {},
     "output_type": "execute_result"
    }
   ],
   "source": [
    "d = datasets.load_iris()                 # データ読込み\n",
    "i = np.random.choice(d.data.shape[0],100,replace=False)\n",
    "ti = np.delete(np.arange(d.data.shape[0]),i)\n",
    "x = d.data[i,:];  y = d.target[i]        # トレーニングデータ\n",
    "tx = d.data[ti,:]; ty = d.target[ti]     # テストデータ\n",
    "ba = ensemble.BaggingClassifier(n_estimators=100)\n",
    "ba.fit(x,y)                         # バギング(B=100)\n",
    "1-ba.score(tx,ty)                   # テスト誤差"
   ]
  },
  {
   "cell_type": "code",
   "execution_count": 8,
   "metadata": {},
   "outputs": [
    {
     "data": {
      "text/plain": [
       "0.040000000000000036"
      ]
     },
     "execution_count": 8,
     "metadata": {},
     "output_type": "execute_result"
    }
   ],
   "source": [
    "dt = tree.DecisionTreeClassifier()  # 単独の決定木を学習\n",
    "dt.fit(x,y)\n",
    "1-dt.score(tx,ty)                   # テスト誤差"
   ]
  },
  {
   "cell_type": "markdown",
   "metadata": {},
   "source": [
    "# ランダム・フォレスト"
   ]
  },
  {
   "cell_type": "code",
   "execution_count": 10,
   "metadata": {},
   "outputs": [
    {
     "data": {
      "text/plain": [
       "0.054054054054054057"
      ]
     },
     "execution_count": 10,
     "metadata": {},
     "output_type": "execute_result"
    }
   ],
   "source": [
    "d  = pd.read_csv('data/stagec.csv').values   # データ読込み\n",
    "xa = np.array(d[:,:6]).astype('float'); ya = d[:,7]\n",
    "i = ~np.isnan(xa).any(axis=1); xa = xa[i,:]; ya = ya[i] # nan 除去\n",
    "x = xa[:100,:];   y = ya[:100]          # トレーニングデータ\n",
    "tx = xa[100:,:]; ty = ya[100:]          # テストデータ\n",
    "# ランダムフォレスト：木の数 10\n",
    "rf = ensemble.RandomForestClassifier(n_estimators=10)  \n",
    "rf.fit(x,y)\n",
    "1-rf.score(tx,ty)    # テスト誤差"
   ]
  },
  {
   "cell_type": "code",
   "execution_count": 11,
   "metadata": {},
   "outputs": [
    {
     "data": {
      "text/plain": [
       "0.054054054054054057"
      ]
     },
     "execution_count": 11,
     "metadata": {},
     "output_type": "execute_result"
    }
   ],
   "source": [
    "# ランダムフォレスト：木の数 1000\n",
    "rf.set_params(n_estimators=1000)\n",
    "rf.fit(x,y)\n",
    "1-rf.score(tx,ty)    # テスト誤差"
   ]
  },
  {
   "cell_type": "code",
   "execution_count": 12,
   "metadata": {},
   "outputs": [
    {
     "data": {
      "text/plain": [
       "0.054054054054054057"
      ]
     },
     "execution_count": 12,
     "metadata": {},
     "output_type": "execute_result"
    }
   ],
   "source": [
    "dt = tree.DecisionTreeClassifier()      #  決定木\n",
    "dt.fit(x,y)\n",
    "1-dt.score(tx,ty)    # テスト誤差"
   ]
  },
  {
   "cell_type": "code",
   "execution_count": 13,
   "metadata": {},
   "outputs": [
    {
     "data": {
      "text/plain": [
       "0.027027027027026973"
      ]
     },
     "execution_count": 13,
     "metadata": {},
     "output_type": "execute_result"
    }
   ],
   "source": [
    "ba = ensemble.BaggingClassifier(n_estimators=10)  # バギング(B=10)\n",
    "ba.fit(x,y)\n",
    "1-ba.score(tx,ty)    # テスト誤差"
   ]
  },
  {
   "cell_type": "markdown",
   "metadata": {},
   "source": [
    "# ブースティング"
   ]
  },
  {
   "cell_type": "code",
   "execution_count": 15,
   "metadata": {},
   "outputs": [],
   "source": [
    "n = 4000                               # トレーニングデータ数\n",
    "d = pd.read_csv('data/soldat.csv').values;  # データ読込み\n",
    "d=np.delete(d,70,1)                    # nanを除去\n",
    "i  = np.random.choice(len(d),n,replace=False)  \n",
    "ti = np.delete(np.arange(len(d)), i)           \n",
    "x  = d[i,:71];   y = d[i,71]             # トレーニングデータ\n",
    "tx = d[ti,:71]; ty = d[ti,71]            # テストデータ\n",
    "T = 1000                                 # ブースティング：ラウンド数\n",
    "bl = tree.DecisionTreeClassifier(max_depth=1)               # 決定株\n",
    "# 決定株でアダブーストを実行\n",
    "ab = ensemble.AdaBoostClassifier(base_estimator=bl, n_estimators=T)\n",
    "ab.fit(x,y)                                # フィッティング\n",
    "# 各ラウンドの誤差\n",
    "ada_tr_err = np.zeros((T,))            \n",
    "for i, score in enumerate(ab.staged_score(x,y)): \n",
    "    ada_tr_err[i] = 1-score                     # トレーニング誤差\n",
    "ada_te_err = np.zeros((T,))            \n",
    "for i, score in enumerate(ab.staged_score(tx,ty)): \n",
    "    ada_te_err[i] = 1-score                     # テスト誤差"
   ]
  },
  {
   "cell_type": "code",
   "execution_count": 16,
   "metadata": {},
   "outputs": [
    {
     "data": {
      "image/png": "[encoded data removed]",
      "text/plain": [
       "<matplotlib.figure.Figure at 0x10b6f60f0>"
      ]
     },
     "metadata": {},
     "output_type": "display_data"
    }
   ],
   "source": [
    "plt.xlabel('round: t')\n",
    "plt.ylabel('error')\n",
    "plt.plot(ada_tr_err[::10],label='training error',linestyle='dashed',lw=3)\n",
    "plt.plot(ada_te_err[::10],label='test error',    linestyle='solid', lw=3)\n",
    "plt.legend()\n",
    "plt.show()"
   ]
  },
  {
   "cell_type": "code",
   "execution_count": 20,
   "metadata": {},
   "outputs": [
    {
     "data": {
      "text/plain": [
       "0.24586143470263644"
      ]
     },
     "execution_count": 20,
     "metadata": {},
     "output_type": "execute_result"
    }
   ],
   "source": [
    "import xgboost as xgb          # xgboostを使う\n",
    "# データ読込み\n",
    "n = 4000\n",
    "d = pd.read_csv('data/soldat.csv').values; d = np.delete(d,70,1)\n",
    "i  = np.random.choice(len(d),n,replace=False)\n",
    "ti = np.delete(np.arange(len(d)), i)\n",
    "x  = d[i,:71];   y = d[i,71]\n",
    "tx = d[ti,:71]; ty = d[ti,71]\n",
    "T = 1000                       # ラウンド数 1000\n",
    "xg = xgb.XGBClassifier(n_estimators=T, max_depth=1, objective='binary:logistic')\n",
    "\n",
    "xg.fit(x,y)                    # フィッティング\n",
    "1-xg.score(tx,ty)              # テスト誤差"
   ]
  },
  {
   "cell_type": "code",
   "execution_count": 21,
   "metadata": {},
   "outputs": [
    {
     "name": "stdout",
     "output_type": "stream",
     "text": [
      "[0]\tvalidation_0-logloss:0.672839\n",
      "Will train until validation_0-logloss hasn't improved in 10 rounds.\n",
      "[1]\tvalidation_0-logloss:0.656299\n",
      "[2]\tvalidation_0-logloss:0.642599\n",
      "[3]\tvalidation_0-logloss:0.630719\n",
      "[4]\tvalidation_0-logloss:0.622753\n",
      "[5]\tvalidation_0-logloss:0.613857\n",
      "[6]\tvalidation_0-logloss:0.606615\n",
      "[7]\tvalidation_0-logloss:0.598363\n",
      "[8]\tvalidation_0-logloss:0.593934\n",
      "[9]\tvalidation_0-logloss:0.587321\n",
      "[10]\tvalidation_0-logloss:0.582386\n",
      "[11]\tvalidation_0-logloss:0.57844\n",
      "[12]\tvalidation_0-logloss:0.57515\n",
      "[13]\tvalidation_0-logloss:0.57327\n",
      "[14]\tvalidation_0-logloss:0.56893\n",
      "[15]\tvalidation_0-logloss:0.566765\n",
      "[16]\tvalidation_0-logloss:0.565534\n",
      "[17]\tvalidation_0-logloss:0.563231\n",
      "[18]\tvalidation_0-logloss:0.560336\n",
      "[19]\tvalidation_0-logloss:0.558584\n",
      "[20]\tvalidation_0-logloss:0.557643\n",
      "[21]\tvalidation_0-logloss:0.555613\n",
      "[22]\tvalidation_0-logloss:0.554704\n",
      "[23]\tvalidation_0-logloss:0.553054\n",
      "[24]\tvalidation_0-logloss:0.551525\n",
      "[25]\tvalidation_0-logloss:0.549957\n",
      "[26]\tvalidation_0-logloss:0.54862\n",
      "[27]\tvalidation_0-logloss:0.548313\n",
      "[28]\tvalidation_0-logloss:0.547869\n",
      "[29]\tvalidation_0-logloss:0.546526\n",
      "[30]\tvalidation_0-logloss:0.545775\n",
      "[31]\tvalidation_0-logloss:0.544568\n",
      "[32]\tvalidation_0-logloss:0.544101\n",
      "[33]\tvalidation_0-logloss:0.543128\n",
      "[34]\tvalidation_0-logloss:0.542115\n",
      "[35]\tvalidation_0-logloss:0.541897\n",
      "[36]\tvalidation_0-logloss:0.540854\n",
      "[37]\tvalidation_0-logloss:0.539914\n",
      "[38]\tvalidation_0-logloss:0.538904\n",
      "[39]\tvalidation_0-logloss:0.538815\n",
      "[40]\tvalidation_0-logloss:0.538098\n",
      "[41]\tvalidation_0-logloss:0.53784\n",
      "[42]\tvalidation_0-logloss:0.537095\n",
      "[43]\tvalidation_0-logloss:0.53688\n",
      "[44]\tvalidation_0-logloss:0.53599\n",
      "[45]\tvalidation_0-logloss:0.535618\n",
      "[46]\tvalidation_0-logloss:0.534843\n",
      "[47]\tvalidation_0-logloss:0.53409\n",
      "[48]\tvalidation_0-logloss:0.53401\n",
      "[49]\tvalidation_0-logloss:0.532979\n",
      "[50]\tvalidation_0-logloss:0.532268\n",
      "[51]\tvalidation_0-logloss:0.531508\n",
      "[52]\tvalidation_0-logloss:0.53093\n",
      "[53]\tvalidation_0-logloss:0.530859\n",
      "[54]\tvalidation_0-logloss:0.530218\n",
      "[55]\tvalidation_0-logloss:0.530067\n",
      "[56]\tvalidation_0-logloss:0.529341\n",
      "[57]\tvalidation_0-logloss:0.529245\n",
      "[58]\tvalidation_0-logloss:0.528757\n",
      "[59]\tvalidation_0-logloss:0.528558\n",
      "[60]\tvalidation_0-logloss:0.528858\n",
      "[61]\tvalidation_0-logloss:0.528352\n",
      "[62]\tvalidation_0-logloss:0.52805\n",
      "[63]\tvalidation_0-logloss:0.527825\n",
      "[64]\tvalidation_0-logloss:0.527209\n",
      "[65]\tvalidation_0-logloss:0.526901\n",
      "[66]\tvalidation_0-logloss:0.526978\n",
      "[67]\tvalidation_0-logloss:0.526457\n",
      "[68]\tvalidation_0-logloss:0.525695\n",
      "[69]\tvalidation_0-logloss:0.525205\n",
      "[70]\tvalidation_0-logloss:0.525205\n",
      "[71]\tvalidation_0-logloss:0.524794\n",
      "[72]\tvalidation_0-logloss:0.524542\n",
      "[73]\tvalidation_0-logloss:0.524299\n",
      "[74]\tvalidation_0-logloss:0.523674\n",
      "[75]\tvalidation_0-logloss:0.523288\n",
      "[76]\tvalidation_0-logloss:0.52356\n",
      "[77]\tvalidation_0-logloss:0.523086\n",
      "[78]\tvalidation_0-logloss:0.52268\n",
      "[79]\tvalidation_0-logloss:0.522167\n",
      "[80]\tvalidation_0-logloss:0.522271\n",
      "[81]\tvalidation_0-logloss:0.522291\n",
      "[82]\tvalidation_0-logloss:0.522142\n",
      "[83]\tvalidation_0-logloss:0.522\n",
      "[84]\tvalidation_0-logloss:0.5218\n",
      "[85]\tvalidation_0-logloss:0.521212\n",
      "[86]\tvalidation_0-logloss:0.521223\n",
      "[87]\tvalidation_0-logloss:0.520718\n",
      "[88]\tvalidation_0-logloss:0.520557\n",
      "[89]\tvalidation_0-logloss:0.520372\n",
      "[90]\tvalidation_0-logloss:0.519915\n",
      "[91]\tvalidation_0-logloss:0.519756\n",
      "[92]\tvalidation_0-logloss:0.518932\n",
      "[93]\tvalidation_0-logloss:0.518869\n",
      "[94]\tvalidation_0-logloss:0.518743\n",
      "[95]\tvalidation_0-logloss:0.518338\n",
      "[96]\tvalidation_0-logloss:0.518201\n",
      "[97]\tvalidation_0-logloss:0.518173\n",
      "[98]\tvalidation_0-logloss:0.518305\n",
      "[99]\tvalidation_0-logloss:0.518558\n",
      "[100]\tvalidation_0-logloss:0.518153\n",
      "[101]\tvalidation_0-logloss:0.517723\n",
      "[102]\tvalidation_0-logloss:0.517578\n",
      "[103]\tvalidation_0-logloss:0.517192\n",
      "[104]\tvalidation_0-logloss:0.517125\n",
      "[105]\tvalidation_0-logloss:0.517198\n",
      "[106]\tvalidation_0-logloss:0.516827\n",
      "[107]\tvalidation_0-logloss:0.516401\n",
      "[108]\tvalidation_0-logloss:0.51699\n",
      "[109]\tvalidation_0-logloss:0.51674\n",
      "[110]\tvalidation_0-logloss:0.516625\n",
      "[111]\tvalidation_0-logloss:0.516602\n",
      "[112]\tvalidation_0-logloss:0.516503\n",
      "[113]\tvalidation_0-logloss:0.51638\n",
      "[114]\tvalidation_0-logloss:0.515931\n",
      "[115]\tvalidation_0-logloss:0.515639\n",
      "[116]\tvalidation_0-logloss:0.515141\n",
      "[117]\tvalidation_0-logloss:0.515287\n",
      "[118]\tvalidation_0-logloss:0.514932\n",
      "[119]\tvalidation_0-logloss:0.515151\n",
      "[120]\tvalidation_0-logloss:0.51506\n",
      "[121]\tvalidation_0-logloss:0.515056\n",
      "[122]\tvalidation_0-logloss:0.514972\n",
      "[123]\tvalidation_0-logloss:0.514901\n",
      "[124]\tvalidation_0-logloss:0.514797\n",
      "[125]\tvalidation_0-logloss:0.514622\n",
      "[126]\tvalidation_0-logloss:0.514298\n",
      "[127]\tvalidation_0-logloss:0.514455\n",
      "[128]\tvalidation_0-logloss:0.514137\n",
      "[129]\tvalidation_0-logloss:0.514103\n",
      "[130]\tvalidation_0-logloss:0.513774\n",
      "[131]\tvalidation_0-logloss:0.513378\n",
      "[132]\tvalidation_0-logloss:0.513106\n",
      "[133]\tvalidation_0-logloss:0.512592\n",
      "[134]\tvalidation_0-logloss:0.512596\n",
      "[135]\tvalidation_0-logloss:0.512403\n",
      "[136]\tvalidation_0-logloss:0.512963\n",
      "[137]\tvalidation_0-logloss:0.513132\n",
      "[138]\tvalidation_0-logloss:0.512847\n",
      "[139]\tvalidation_0-logloss:0.512549\n",
      "[140]\tvalidation_0-logloss:0.512864\n",
      "[141]\tvalidation_0-logloss:0.512135\n",
      "[142]\tvalidation_0-logloss:0.512352\n",
      "[143]\tvalidation_0-logloss:0.512289\n",
      "[144]\tvalidation_0-logloss:0.512518\n",
      "[145]\tvalidation_0-logloss:0.512276\n",
      "[146]\tvalidation_0-logloss:0.512287\n",
      "[147]\tvalidation_0-logloss:0.51199\n",
      "[148]\tvalidation_0-logloss:0.511709\n",
      "[149]\tvalidation_0-logloss:0.511863\n",
      "[150]\tvalidation_0-logloss:0.511672\n",
      "[151]\tvalidation_0-logloss:0.511314\n",
      "[152]\tvalidation_0-logloss:0.511631\n",
      "[153]\tvalidation_0-logloss:0.511584\n",
      "[154]\tvalidation_0-logloss:0.511299\n",
      "[155]\tvalidation_0-logloss:0.51103\n",
      "[156]\tvalidation_0-logloss:0.511056\n",
      "[157]\tvalidation_0-logloss:0.511163\n",
      "[158]\tvalidation_0-logloss:0.510897\n",
      "[159]\tvalidation_0-logloss:0.510815\n",
      "[160]\tvalidation_0-logloss:0.510747\n",
      "[161]\tvalidation_0-logloss:0.510693\n",
      "[162]\tvalidation_0-logloss:0.510641\n",
      "[163]\tvalidation_0-logloss:0.510329\n",
      "[164]\tvalidation_0-logloss:0.510287\n",
      "[165]\tvalidation_0-logloss:0.510361\n",
      "[166]\tvalidation_0-logloss:0.510163\n",
      "[167]\tvalidation_0-logloss:0.510146\n",
      "[168]\tvalidation_0-logloss:0.510167\n",
      "[169]\tvalidation_0-logloss:0.509806\n",
      "[170]\tvalidation_0-logloss:0.509766\n",
      "[171]\tvalidation_0-logloss:0.509932\n",
      "[172]\tvalidation_0-logloss:0.509588\n",
      "[173]\tvalidation_0-logloss:0.509323\n",
      "[174]\tvalidation_0-logloss:0.509213\n",
      "[175]\tvalidation_0-logloss:0.509741\n",
      "[176]\tvalidation_0-logloss:0.509809\n",
      "[177]\tvalidation_0-logloss:0.50969\n",
      "[178]\tvalidation_0-logloss:0.509448\n",
      "[179]\tvalidation_0-logloss:0.509684\n",
      "[180]\tvalidation_0-logloss:0.509407\n",
      "[181]\tvalidation_0-logloss:0.509172\n",
      "[182]\tvalidation_0-logloss:0.509115\n",
      "[183]\tvalidation_0-logloss:0.50926\n",
      "[184]\tvalidation_0-logloss:0.509061\n",
      "[185]\tvalidation_0-logloss:0.508821\n",
      "[186]\tvalidation_0-logloss:0.50909\n",
      "[187]\tvalidation_0-logloss:0.509165\n",
      "[188]\tvalidation_0-logloss:0.508915\n",
      "[189]\tvalidation_0-logloss:0.509023\n",
      "[190]\tvalidation_0-logloss:0.508981\n",
      "[191]\tvalidation_0-logloss:0.509287\n",
      "[192]\tvalidation_0-logloss:0.509035\n",
      "[193]\tvalidation_0-logloss:0.508793\n",
      "[194]\tvalidation_0-logloss:0.508636\n",
      "[195]\tvalidation_0-logloss:0.508408\n",
      "[196]\tvalidation_0-logloss:0.508486\n",
      "[197]\tvalidation_0-logloss:0.50852\n",
      "[198]\tvalidation_0-logloss:0.508497\n",
      "[199]\tvalidation_0-logloss:0.507895\n",
      "[200]\tvalidation_0-logloss:0.508199\n",
      "[201]\tvalidation_0-logloss:0.507971\n",
      "[202]\tvalidation_0-logloss:0.507815\n",
      "[203]\tvalidation_0-logloss:0.507484\n",
      "[204]\tvalidation_0-logloss:0.507209\n",
      "[205]\tvalidation_0-logloss:0.507011\n",
      "[206]\tvalidation_0-logloss:0.507025\n",
      "[207]\tvalidation_0-logloss:0.507201\n",
      "[208]\tvalidation_0-logloss:0.506998\n",
      "[209]\tvalidation_0-logloss:0.506782\n",
      "[210]\tvalidation_0-logloss:0.506522\n",
      "[211]\tvalidation_0-logloss:0.506692\n",
      "[212]\tvalidation_0-logloss:0.506685\n",
      "[213]\tvalidation_0-logloss:0.506648\n",
      "[214]\tvalidation_0-logloss:0.506602\n",
      "[215]\tvalidation_0-logloss:0.506684\n",
      "[216]\tvalidation_0-logloss:0.506963\n",
      "[217]\tvalidation_0-logloss:0.506744\n",
      "[218]\tvalidation_0-logloss:0.506549\n",
      "[219]\tvalidation_0-logloss:0.506427\n",
      "[220]\tvalidation_0-logloss:0.506509\n",
      "[221]\tvalidation_0-logloss:0.506217\n",
      "[222]\tvalidation_0-logloss:0.506186\n",
      "[223]\tvalidation_0-logloss:0.506225\n",
      "[224]\tvalidation_0-logloss:0.506179\n",
      "[225]\tvalidation_0-logloss:0.505979\n",
      "[226]\tvalidation_0-logloss:0.506025\n",
      "[227]\tvalidation_0-logloss:0.505901\n",
      "[228]\tvalidation_0-logloss:0.505966\n",
      "[229]\tvalidation_0-logloss:0.505712\n"
     ]
    },
    {
     "name": "stdout",
     "output_type": "stream",
     "text": [
      "[230]\tvalidation_0-logloss:0.505769\n",
      "[231]\tvalidation_0-logloss:0.50557\n",
      "[232]\tvalidation_0-logloss:0.505526\n",
      "[233]\tvalidation_0-logloss:0.50601\n",
      "[234]\tvalidation_0-logloss:0.506252\n",
      "[235]\tvalidation_0-logloss:0.506082\n",
      "[236]\tvalidation_0-logloss:0.505896\n",
      "[237]\tvalidation_0-logloss:0.506196\n",
      "[238]\tvalidation_0-logloss:0.505828\n",
      "[239]\tvalidation_0-logloss:0.505795\n",
      "[240]\tvalidation_0-logloss:0.505586\n",
      "[241]\tvalidation_0-logloss:0.505774\n",
      "[242]\tvalidation_0-logloss:0.505763\n",
      "Stopping. Best iteration:\n",
      "[232]\tvalidation_0-logloss:0.505526\n",
      "\n"
     ]
    },
    {
     "data": {
      "text/plain": [
       "XGBClassifier(base_score=0.5, booster='gbtree', colsample_bylevel=1,\n",
       "       colsample_bytree=1, gamma=0, learning_rate=0.1, max_delta_step=0,\n",
       "       max_depth=1, min_child_weight=1, missing=None, n_estimators=1000,\n",
       "       n_jobs=1, nthread=None, objective='binary:logistic', random_state=0,\n",
       "       reg_alpha=0, reg_lambda=1, scale_pos_weight=1, seed=None,\n",
       "       silent=True, subsample=1)"
      ]
     },
     "execution_count": 21,
     "metadata": {},
     "output_type": "execute_result"
    }
   ],
   "source": [
    "xg = xgb.XGBClassifier(n_estimators=1000, max_depth=1, objective= 'binary:logistic')\n",
    "cvx = x[:3500,:]; cvy = y[:3500];       # トレーニングデータ\n",
    "eval_set = [(x[3500:,:], y[3500:])]    # 検証用のデータ\n",
    "xg.fit(cvx, cvy, early_stopping_rounds=10, eval_metric=\"logloss\", eval_set=eval_set,verbose=True) # verboseを設定：途中経過をプリント"
   ]
  },
  {
   "cell_type": "code",
   "execution_count": 22,
   "metadata": {},
   "outputs": [
    {
     "data": {
      "text/plain": [
       "232"
      ]
     },
     "execution_count": 22,
     "metadata": {},
     "output_type": "execute_result"
    }
   ],
   "source": [
    "xg.best_iteration          # 最適なラウンド数"
   ]
  },
  {
   "cell_type": "code",
   "execution_count": 23,
   "metadata": {},
   "outputs": [
    {
     "data": {
      "text/plain": [
       "0.25751072961373389"
      ]
     },
     "execution_count": 23,
     "metadata": {},
     "output_type": "execute_result"
    }
   ],
   "source": [
    "1-xg.score(tx,ty)          # テスト誤差"
   ]
  },
  {
   "cell_type": "code",
   "execution_count": 24,
   "metadata": {},
   "outputs": [
    {
     "data": {
      "text/plain": [
       "array([[ 0.78645766,  0.21354231],\n",
       "       [ 0.78047788,  0.21952213],\n",
       "       [ 0.77795959,  0.2220404 ],\n",
       "       ..., \n",
       "       [ 0.84463835,  0.15536164],\n",
       "       [ 0.84458882,  0.15541118],\n",
       "       [ 0.46995419,  0.53004581]], dtype=float32)"
      ]
     },
     "execution_count": 24,
     "metadata": {},
     "output_type": "execute_result"
    }
   ],
   "source": [
    "xg.predict_proba(tx)      # 予測点における各ラベルの条件付き確率"
   ]
  },
  {
   "cell_type": "code",
   "execution_count": null,
   "metadata": {
    "collapsed": true
   },
   "outputs": [],
   "source": []
  }
 ],
 "metadata": {
  "kernelspec": {
   "display_name": "Python 3",
   "language": "python",
   "name": "python3"
  },
  "language_info": {
   "codemirror_mode": {
    "name": "ipython",
    "version": 3
   },
   "file_extension": ".py",
   "mimetype": "text/x-python",
   "name": "python",
   "nbconvert_exporter": "python",
   "pygments_lexer": "ipython3",
   "version": "3.6.3"
  }
 },
 "nbformat": 4,
 "nbformat_minor": 2
}
