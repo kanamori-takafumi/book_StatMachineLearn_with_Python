{
 "cells": [
  {
   "cell_type": "code",
   "execution_count": 1,
   "metadata": {},
   "outputs": [],
   "source": [
    "import numpy as np               \n",
    "import matplotlib.pyplot as plt  \n",
    "import pandas as pd\n",
    "from sklearn import tree\n",
    "from sklearn import ensemble\n",
    "from sklearn import datasets "
   ]
  },
  {
   "cell_type": "markdown",
   "metadata": {},
   "source": [
    "# 決定木"
   ]
  },
  {
   "cell_type": "code",
   "execution_count": 2,
   "metadata": {},
   "outputs": [
    {
     "data": {
      "text/plain": [
       "0.0"
      ]
     },
     "execution_count": 2,
     "metadata": {},
     "output_type": "execute_result"
    }
   ],
   "source": [
    "d = datasets.load_wine()              # wineデータ読込み\n",
    "dt = tree.DecisionTreeClassifier()    # 決定木\n",
    "dt.fit(d.data, d.target)              # フィッティング\n",
    "1-dt.score(d.data,d.target)           # トレーニング誤差"
   ]
  },
  {
   "cell_type": "code",
   "execution_count": 3,
   "metadata": {},
   "outputs": [
    {
     "data": {
      "text/plain": [
       "0.022471910112359605"
      ]
     },
     "execution_count": 3,
     "metadata": {},
     "output_type": "execute_result"
    }
   ],
   "source": [
    "dt.set_params(max_depth=3)            # 木の深さの最大値を設定\n",
    "dt.fit(d.data, d.target)              # フィッティング\n",
    "1-dt.score(d.data,d.target)           # トレーニング誤差"
   ]
  },
  {
   "cell_type": "code",
   "execution_count": 4,
   "metadata": {},
   "outputs": [],
   "source": [
    "import graphviz            # graphviz.Source を使う\n",
    "# graphvizで決定木を描画\n",
    "graph = graphviz.Source(tree.export_graphviz(dt,out_file=None))\n",
    "# graph.render(\"DTplot\")     # 図をファイルに出力"
   ]
  },
  {
   "cell_type": "markdown",
   "metadata": {},
   "source": [
    "# バギング"
   ]
  },
  {
   "cell_type": "code",
   "execution_count": 5,
   "metadata": {},
   "outputs": [
    {
     "data": {
      "text/plain": [
       "array([4, 1, 0, 4, 1])"
      ]
     },
     "execution_count": 5,
     "metadata": {},
     "output_type": "execute_result"
    }
   ],
   "source": [
    "# 1,2,3,4,5 の復元抽出(リサンプリング)\n",
    "np.random.choice(5,5)"
   ]
  },
  {
   "cell_type": "code",
   "execution_count": 6,
   "metadata": {},
   "outputs": [
    {
     "data": {
      "text/plain": [
       "array([3, 0, 1, 4, 2])"
      ]
     },
     "execution_count": 6,
     "metadata": {},
     "output_type": "execute_result"
    }
   ],
   "source": [
    "# 0，1,2,3,4 の非復元抽出\n",
    "np.random.choice(5,5,replace=False)"
   ]
  },
  {
   "cell_type": "code",
   "execution_count": 7,
   "metadata": {},
   "outputs": [
    {
     "data": {
      "text/plain": [
       "0.0"
      ]
     },
     "execution_count": 7,
     "metadata": {},
     "output_type": "execute_result"
    }
   ],
   "source": [
    "d = datasets.load_iris()                 # データ読込み\n",
    "i = np.random.choice(d.data.shape[0],100,replace=False)\n",
    "ti = np.delete(np.arange(d.data.shape[0]),i)\n",
    "x = d.data[i,:];  y = d.target[i]        # トレーニングデータ\n",
    "tx = d.data[ti,:]; ty = d.target[ti]     # テストデータ\n",
    "ba = ensemble.BaggingClassifier(n_estimators=100)\n",
    "ba.fit(x,y)                         # バギング(B=100)\n",
    "1-ba.score(tx,ty)                   # テスト誤差"
   ]
  },
  {
   "cell_type": "code",
   "execution_count": 8,
   "metadata": {},
   "outputs": [
    {
     "data": {
      "text/plain": [
       "0.0"
      ]
     },
     "execution_count": 8,
     "metadata": {},
     "output_type": "execute_result"
    }
   ],
   "source": [
    "dt = tree.DecisionTreeClassifier()  # 単独の決定木を学習\n",
    "dt.fit(x,y)\n",
    "1-dt.score(tx,ty)                   # テスト誤差"
   ]
  },
  {
   "cell_type": "markdown",
   "metadata": {},
   "source": [
    "# ランダム・フォレスト"
   ]
  },
  {
   "cell_type": "code",
   "execution_count": 9,
   "metadata": {},
   "outputs": [
    {
     "data": {
      "text/plain": [
       "0.027027027027026973"
      ]
     },
     "execution_count": 9,
     "metadata": {},
     "output_type": "execute_result"
    }
   ],
   "source": [
    "d  = pd.read_csv('data/stagec.csv').values   # データ読込み\n",
    "xa = np.array(d[:,:6]).astype('float'); ya = d[:,7]\n",
    "i = ~np.isnan(xa).any(axis=1); xa = xa[i,:]; ya = ya[i] # nan 除去\n",
    "x = xa[:100,:];   y = ya[:100]          # トレーニングデータ\n",
    "tx = xa[100:,:]; ty = ya[100:]          # テストデータ\n",
    "# ランダムフォレスト：木の数 10\n",
    "rf = ensemble.RandomForestClassifier(n_estimators=10)  \n",
    "rf.fit(x,y)\n",
    "1-rf.score(tx,ty)    # テスト誤差"
   ]
  },
  {
   "cell_type": "code",
   "execution_count": 10,
   "metadata": {},
   "outputs": [
    {
     "data": {
      "text/plain": [
       "0.027027027027026973"
      ]
     },
     "execution_count": 10,
     "metadata": {},
     "output_type": "execute_result"
    }
   ],
   "source": [
    "# ランダムフォレスト：木の数 1000\n",
    "rf.set_params(n_estimators=1000)\n",
    "rf.fit(x,y)\n",
    "1-rf.score(tx,ty)    # テスト誤差"
   ]
  },
  {
   "cell_type": "code",
   "execution_count": 11,
   "metadata": {},
   "outputs": [
    {
     "data": {
      "text/plain": [
       "0.054054054054054057"
      ]
     },
     "execution_count": 11,
     "metadata": {},
     "output_type": "execute_result"
    }
   ],
   "source": [
    "dt = tree.DecisionTreeClassifier()      #  決定木\n",
    "dt.fit(x,y)\n",
    "1-dt.score(tx,ty)    # テスト誤差"
   ]
  },
  {
   "cell_type": "code",
   "execution_count": 12,
   "metadata": {},
   "outputs": [
    {
     "data": {
      "text/plain": [
       "0.027027027027026973"
      ]
     },
     "execution_count": 12,
     "metadata": {},
     "output_type": "execute_result"
    }
   ],
   "source": [
    "ba = ensemble.BaggingClassifier(n_estimators=10)  # バギング(B=10)\n",
    "ba.fit(x,y)\n",
    "1-ba.score(tx,ty)    # テスト誤差"
   ]
  },
  {
   "cell_type": "markdown",
   "metadata": {},
   "source": [
    "# ブースティング"
   ]
  },
  {
   "cell_type": "code",
   "execution_count": 13,
   "metadata": {},
   "outputs": [],
   "source": [
    "n = 4000                               # トレーニングデータ数\n",
    "d = pd.read_csv('data/soldat.csv').values;  # データ読込み\n",
    "d=np.delete(d,70,1)                    # nanを除去\n",
    "i  = np.random.choice(len(d),n,replace=False)  \n",
    "ti = np.delete(np.arange(len(d)), i)           \n",
    "x  = d[i,:71];   y = d[i,71]             # トレーニングデータ\n",
    "tx = d[ti,:71]; ty = d[ti,71]            # テストデータ\n",
    "T = 1000                                 # ブースティング：ラウンド数\n",
    "bl = tree.DecisionTreeClassifier(max_depth=1)               # 決定株\n",
    "# 決定株でアダブーストを実行\n",
    "ab = ensemble.AdaBoostClassifier(base_estimator=bl, n_estimators=T)\n",
    "ab.fit(x,y)                                # フィッティング\n",
    "# 各ラウンドの誤差\n",
    "ada_tr_err = np.zeros((T,))            \n",
    "for i, score in enumerate(ab.staged_score(x,y)): \n",
    "    ada_tr_err[i] = 1-score                     # トレーニング誤差\n",
    "ada_te_err = np.zeros((T,))            \n",
    "for i, score in enumerate(ab.staged_score(tx,ty)): \n",
    "    ada_te_err[i] = 1-score                     # テスト誤差"
   ]
  },
  {
   "cell_type": "code",
   "execution_count": 14,
   "metadata": {},
   "outputs": [
    {
     "data": {
      "image/png": "[encoded data removed]",
      "text/plain": [
       "<matplotlib.figure.Figure at 0x11328fef0>"
      ]
     },
     "metadata": {},
     "output_type": "display_data"
    }
   ],
   "source": [
    "plt.xlabel('round: t')\n",
    "plt.ylabel('error')\n",
    "plt.plot(ada_tr_err[::10],label='training error',linestyle='dashed',lw=3)\n",
    "plt.plot(ada_te_err[::10],label='test error',    linestyle='solid', lw=3)\n",
    "plt.legend()\n",
    "plt.show()"
   ]
  },
  {
   "cell_type": "code",
   "execution_count": 15,
   "metadata": {},
   "outputs": [
    {
     "data": {
      "text/plain": [
       "0.26118945432250151"
      ]
     },
     "execution_count": 15,
     "metadata": {},
     "output_type": "execute_result"
    }
   ],
   "source": [
    "import xgboost as xgb          # xgboostを使う\n",
    "# データ読込み\n",
    "n = 4000\n",
    "d = pd.read_csv('data/soldat.csv').values; d = np.delete(d,70,1)\n",
    "i  = np.random.choice(len(d),n,replace=False)\n",
    "ti = np.delete(np.arange(len(d)), i)\n",
    "x  = d[i,:71];   y = d[i,71]\n",
    "tx = d[ti,:71]; ty = d[ti,71]\n",
    "T = 1000                       # ラウンド数 1000\n",
    "xg = xgb.XGBClassifier(n_estimators=T, max_depth=1, objective='binary:logistic')\n",
    "\n",
    "xg.fit(x,y)                    # フィッティング\n",
    "1-xg.score(tx,ty)              # テスト誤差"
   ]
  },
  {
   "cell_type": "code",
   "execution_count": 16,
   "metadata": {},
   "outputs": [
    {
     "name": "stdout",
     "output_type": "stream",
     "text": [
      "[0]\tvalidation_0-logloss:0.672948\n",
      "Will train until validation_0-logloss hasn't improved in 10 rounds.\n",
      "[1]\tvalidation_0-logloss:0.656215\n",
      "[2]\tvalidation_0-logloss:0.643278\n",
      "[3]\tvalidation_0-logloss:0.630418\n",
      "[4]\tvalidation_0-logloss:0.622401\n",
      "[5]\tvalidation_0-logloss:0.613394\n",
      "[6]\tvalidation_0-logloss:0.606195\n",
      "[7]\tvalidation_0-logloss:0.599701\n",
      "[8]\tvalidation_0-logloss:0.593597\n",
      "[9]\tvalidation_0-logloss:0.589215\n",
      "[10]\tvalidation_0-logloss:0.584719\n",
      "[11]\tvalidation_0-logloss:0.581299\n",
      "[12]\tvalidation_0-logloss:0.577567\n",
      "[13]\tvalidation_0-logloss:0.574132\n",
      "[14]\tvalidation_0-logloss:0.572588\n",
      "[15]\tvalidation_0-logloss:0.570268\n",
      "[16]\tvalidation_0-logloss:0.567411\n",
      "[17]\tvalidation_0-logloss:0.565401\n",
      "[18]\tvalidation_0-logloss:0.563584\n",
      "[19]\tvalidation_0-logloss:0.56267\n",
      "[20]\tvalidation_0-logloss:0.561603\n",
      "[21]\tvalidation_0-logloss:0.560005\n",
      "[22]\tvalidation_0-logloss:0.557959\n",
      "[23]\tvalidation_0-logloss:0.557386\n",
      "[24]\tvalidation_0-logloss:0.556048\n",
      "[25]\tvalidation_0-logloss:0.555404\n",
      "[26]\tvalidation_0-logloss:0.55459\n",
      "[27]\tvalidation_0-logloss:0.553318\n",
      "[28]\tvalidation_0-logloss:0.551766\n",
      "[29]\tvalidation_0-logloss:0.55102\n",
      "[30]\tvalidation_0-logloss:0.550051\n",
      "[31]\tvalidation_0-logloss:0.54899\n",
      "[32]\tvalidation_0-logloss:0.547503\n",
      "[33]\tvalidation_0-logloss:0.546237\n",
      "[34]\tvalidation_0-logloss:0.545105\n",
      "[35]\tvalidation_0-logloss:0.544739\n",
      "[36]\tvalidation_0-logloss:0.543344\n",
      "[37]\tvalidation_0-logloss:0.542413\n",
      "[38]\tvalidation_0-logloss:0.541906\n",
      "[39]\tvalidation_0-logloss:0.541467\n",
      "[40]\tvalidation_0-logloss:0.540232\n",
      "[41]\tvalidation_0-logloss:0.539417\n",
      "[42]\tvalidation_0-logloss:0.538682\n",
      "[43]\tvalidation_0-logloss:0.538467\n",
      "[44]\tvalidation_0-logloss:0.537466\n",
      "[45]\tvalidation_0-logloss:0.537169\n",
      "[46]\tvalidation_0-logloss:0.536503\n",
      "[47]\tvalidation_0-logloss:0.536169\n",
      "[48]\tvalidation_0-logloss:0.535284\n",
      "[49]\tvalidation_0-logloss:0.53462\n",
      "[50]\tvalidation_0-logloss:0.533646\n",
      "[51]\tvalidation_0-logloss:0.533343\n",
      "[52]\tvalidation_0-logloss:0.533838\n",
      "[53]\tvalidation_0-logloss:0.533857\n",
      "[54]\tvalidation_0-logloss:0.533415\n",
      "[55]\tvalidation_0-logloss:0.532486\n",
      "[56]\tvalidation_0-logloss:0.532456\n",
      "[57]\tvalidation_0-logloss:0.532209\n",
      "[58]\tvalidation_0-logloss:0.531402\n",
      "[59]\tvalidation_0-logloss:0.531307\n",
      "[60]\tvalidation_0-logloss:0.530869\n",
      "[61]\tvalidation_0-logloss:0.530704\n",
      "[62]\tvalidation_0-logloss:0.529963\n",
      "[63]\tvalidation_0-logloss:0.529434\n",
      "[64]\tvalidation_0-logloss:0.528569\n",
      "[65]\tvalidation_0-logloss:0.528191\n",
      "[66]\tvalidation_0-logloss:0.528671\n",
      "[67]\tvalidation_0-logloss:0.527519\n",
      "[68]\tvalidation_0-logloss:0.527162\n",
      "[69]\tvalidation_0-logloss:0.526928\n",
      "[70]\tvalidation_0-logloss:0.52655\n",
      "[71]\tvalidation_0-logloss:0.526206\n",
      "[72]\tvalidation_0-logloss:0.525577\n",
      "[73]\tvalidation_0-logloss:0.525224\n",
      "[74]\tvalidation_0-logloss:0.525202\n",
      "[75]\tvalidation_0-logloss:0.525281\n",
      "[76]\tvalidation_0-logloss:0.525104\n",
      "[77]\tvalidation_0-logloss:0.524496\n",
      "[78]\tvalidation_0-logloss:0.524064\n",
      "[79]\tvalidation_0-logloss:0.523504\n",
      "[80]\tvalidation_0-logloss:0.522808\n",
      "[81]\tvalidation_0-logloss:0.523269\n",
      "[82]\tvalidation_0-logloss:0.522292\n",
      "[83]\tvalidation_0-logloss:0.522003\n",
      "[84]\tvalidation_0-logloss:0.52168\n",
      "[85]\tvalidation_0-logloss:0.521413\n",
      "[86]\tvalidation_0-logloss:0.521266\n",
      "[87]\tvalidation_0-logloss:0.521135\n",
      "[88]\tvalidation_0-logloss:0.521265\n",
      "[89]\tvalidation_0-logloss:0.520889\n",
      "[90]\tvalidation_0-logloss:0.520764\n",
      "[91]\tvalidation_0-logloss:0.520468\n",
      "[92]\tvalidation_0-logloss:0.520216\n",
      "[93]\tvalidation_0-logloss:0.519518\n",
      "[94]\tvalidation_0-logloss:0.519463\n",
      "[95]\tvalidation_0-logloss:0.519312\n",
      "[96]\tvalidation_0-logloss:0.519097\n",
      "[97]\tvalidation_0-logloss:0.518579\n",
      "[98]\tvalidation_0-logloss:0.518335\n",
      "[99]\tvalidation_0-logloss:0.518442\n",
      "[100]\tvalidation_0-logloss:0.518405\n",
      "[101]\tvalidation_0-logloss:0.517946\n",
      "[102]\tvalidation_0-logloss:0.518383\n",
      "[103]\tvalidation_0-logloss:0.518228\n",
      "[104]\tvalidation_0-logloss:0.518145\n",
      "[105]\tvalidation_0-logloss:0.517853\n",
      "[106]\tvalidation_0-logloss:0.517463\n",
      "[107]\tvalidation_0-logloss:0.517255\n",
      "[108]\tvalidation_0-logloss:0.517163\n",
      "[109]\tvalidation_0-logloss:0.516824\n",
      "[110]\tvalidation_0-logloss:0.516422\n",
      "[111]\tvalidation_0-logloss:0.51619\n",
      "[112]\tvalidation_0-logloss:0.516165\n",
      "[113]\tvalidation_0-logloss:0.515758\n",
      "[114]\tvalidation_0-logloss:0.515589\n",
      "[115]\tvalidation_0-logloss:0.514994\n",
      "[116]\tvalidation_0-logloss:0.514222\n",
      "[117]\tvalidation_0-logloss:0.514179\n",
      "[118]\tvalidation_0-logloss:0.513796\n",
      "[119]\tvalidation_0-logloss:0.513637\n",
      "[120]\tvalidation_0-logloss:0.513458\n",
      "[121]\tvalidation_0-logloss:0.51365\n",
      "[122]\tvalidation_0-logloss:0.513636\n",
      "[123]\tvalidation_0-logloss:0.513331\n",
      "[124]\tvalidation_0-logloss:0.51317\n",
      "[125]\tvalidation_0-logloss:0.513081\n",
      "[126]\tvalidation_0-logloss:0.512827\n",
      "[127]\tvalidation_0-logloss:0.512824\n",
      "[128]\tvalidation_0-logloss:0.512273\n",
      "[129]\tvalidation_0-logloss:0.512165\n",
      "[130]\tvalidation_0-logloss:0.512158\n",
      "[131]\tvalidation_0-logloss:0.512548\n",
      "[132]\tvalidation_0-logloss:0.512474\n",
      "[133]\tvalidation_0-logloss:0.512469\n",
      "[134]\tvalidation_0-logloss:0.512364\n",
      "[135]\tvalidation_0-logloss:0.512447\n",
      "[136]\tvalidation_0-logloss:0.51237\n",
      "[137]\tvalidation_0-logloss:0.512199\n",
      "[138]\tvalidation_0-logloss:0.511532\n",
      "[139]\tvalidation_0-logloss:0.511048\n",
      "[140]\tvalidation_0-logloss:0.510734\n",
      "[141]\tvalidation_0-logloss:0.51028\n",
      "[142]\tvalidation_0-logloss:0.510297\n",
      "[143]\tvalidation_0-logloss:0.510457\n",
      "[144]\tvalidation_0-logloss:0.51036\n",
      "[145]\tvalidation_0-logloss:0.510367\n",
      "[146]\tvalidation_0-logloss:0.510034\n",
      "[147]\tvalidation_0-logloss:0.509896\n",
      "[148]\tvalidation_0-logloss:0.509678\n",
      "[149]\tvalidation_0-logloss:0.509716\n",
      "[150]\tvalidation_0-logloss:0.509683\n",
      "[151]\tvalidation_0-logloss:0.50943\n",
      "[152]\tvalidation_0-logloss:0.509438\n",
      "[153]\tvalidation_0-logloss:0.509809\n",
      "[154]\tvalidation_0-logloss:0.5094\n",
      "[155]\tvalidation_0-logloss:0.50955\n",
      "[156]\tvalidation_0-logloss:0.509508\n",
      "[157]\tvalidation_0-logloss:0.509211\n",
      "[158]\tvalidation_0-logloss:0.508745\n",
      "[159]\tvalidation_0-logloss:0.508474\n",
      "[160]\tvalidation_0-logloss:0.508606\n",
      "[161]\tvalidation_0-logloss:0.508889\n",
      "[162]\tvalidation_0-logloss:0.509103\n",
      "[163]\tvalidation_0-logloss:0.509042\n",
      "[164]\tvalidation_0-logloss:0.508982\n",
      "[165]\tvalidation_0-logloss:0.508999\n",
      "[166]\tvalidation_0-logloss:0.508549\n",
      "[167]\tvalidation_0-logloss:0.508062\n",
      "[168]\tvalidation_0-logloss:0.5082\n",
      "[169]\tvalidation_0-logloss:0.50809\n",
      "[170]\tvalidation_0-logloss:0.507914\n",
      "[171]\tvalidation_0-logloss:0.507862\n",
      "[172]\tvalidation_0-logloss:0.507881\n",
      "[173]\tvalidation_0-logloss:0.507847\n",
      "[174]\tvalidation_0-logloss:0.507777\n",
      "[175]\tvalidation_0-logloss:0.507383\n",
      "[176]\tvalidation_0-logloss:0.507278\n",
      "[177]\tvalidation_0-logloss:0.506761\n",
      "[178]\tvalidation_0-logloss:0.506996\n",
      "[179]\tvalidation_0-logloss:0.506703\n",
      "[180]\tvalidation_0-logloss:0.506713\n",
      "[181]\tvalidation_0-logloss:0.506406\n",
      "[182]\tvalidation_0-logloss:0.506192\n",
      "[183]\tvalidation_0-logloss:0.506472\n",
      "[184]\tvalidation_0-logloss:0.506081\n",
      "[185]\tvalidation_0-logloss:0.505904\n",
      "[186]\tvalidation_0-logloss:0.505852\n",
      "[187]\tvalidation_0-logloss:0.505455\n",
      "[188]\tvalidation_0-logloss:0.505463\n",
      "[189]\tvalidation_0-logloss:0.50552\n",
      "[190]\tvalidation_0-logloss:0.50542\n",
      "[191]\tvalidation_0-logloss:0.505268\n",
      "[192]\tvalidation_0-logloss:0.505342\n",
      "[193]\tvalidation_0-logloss:0.505609\n",
      "[194]\tvalidation_0-logloss:0.505133\n",
      "[195]\tvalidation_0-logloss:0.505157\n",
      "[196]\tvalidation_0-logloss:0.505063\n",
      "[197]\tvalidation_0-logloss:0.504967\n",
      "[198]\tvalidation_0-logloss:0.505116\n",
      "[199]\tvalidation_0-logloss:0.504762\n",
      "[200]\tvalidation_0-logloss:0.504677\n",
      "[201]\tvalidation_0-logloss:0.504505\n",
      "[202]\tvalidation_0-logloss:0.504221\n",
      "[203]\tvalidation_0-logloss:0.504373\n",
      "[204]\tvalidation_0-logloss:0.504363\n",
      "[205]\tvalidation_0-logloss:0.504269\n",
      "[206]\tvalidation_0-logloss:0.503996\n",
      "[207]\tvalidation_0-logloss:0.504265\n",
      "[208]\tvalidation_0-logloss:0.503904\n",
      "[209]\tvalidation_0-logloss:0.503862\n",
      "[210]\tvalidation_0-logloss:0.503498\n",
      "[211]\tvalidation_0-logloss:0.503551\n",
      "[212]\tvalidation_0-logloss:0.503275\n",
      "[213]\tvalidation_0-logloss:0.503224\n",
      "[214]\tvalidation_0-logloss:0.503139\n",
      "[215]\tvalidation_0-logloss:0.50311\n",
      "[216]\tvalidation_0-logloss:0.502887\n",
      "[217]\tvalidation_0-logloss:0.502723\n",
      "[218]\tvalidation_0-logloss:0.502715\n",
      "[219]\tvalidation_0-logloss:0.502746\n",
      "[220]\tvalidation_0-logloss:0.502549\n",
      "[221]\tvalidation_0-logloss:0.502466\n",
      "[222]\tvalidation_0-logloss:0.502555\n",
      "[223]\tvalidation_0-logloss:0.50256\n",
      "[224]\tvalidation_0-logloss:0.50216\n",
      "[225]\tvalidation_0-logloss:0.501906\n",
      "[226]\tvalidation_0-logloss:0.501728\n",
      "[227]\tvalidation_0-logloss:0.501996\n",
      "[228]\tvalidation_0-logloss:0.50184\n",
      "[229]\tvalidation_0-logloss:0.501909\n"
     ]
    },
    {
     "name": "stdout",
     "output_type": "stream",
     "text": [
      "[230]\tvalidation_0-logloss:0.502141\n",
      "[231]\tvalidation_0-logloss:0.501687\n",
      "[232]\tvalidation_0-logloss:0.501625\n",
      "[233]\tvalidation_0-logloss:0.501504\n",
      "[234]\tvalidation_0-logloss:0.50135\n",
      "[235]\tvalidation_0-logloss:0.501532\n",
      "[236]\tvalidation_0-logloss:0.501503\n",
      "[237]\tvalidation_0-logloss:0.501465\n",
      "[238]\tvalidation_0-logloss:0.501692\n",
      "[239]\tvalidation_0-logloss:0.502062\n",
      "[240]\tvalidation_0-logloss:0.501756\n",
      "[241]\tvalidation_0-logloss:0.501433\n",
      "[242]\tvalidation_0-logloss:0.501201\n",
      "[243]\tvalidation_0-logloss:0.501122\n",
      "[244]\tvalidation_0-logloss:0.501218\n",
      "[245]\tvalidation_0-logloss:0.500799\n",
      "[246]\tvalidation_0-logloss:0.500583\n",
      "[247]\tvalidation_0-logloss:0.500545\n",
      "[248]\tvalidation_0-logloss:0.500476\n",
      "[249]\tvalidation_0-logloss:0.500409\n",
      "[250]\tvalidation_0-logloss:0.50015\n",
      "[251]\tvalidation_0-logloss:0.500032\n",
      "[252]\tvalidation_0-logloss:0.500165\n",
      "[253]\tvalidation_0-logloss:0.500318\n",
      "[254]\tvalidation_0-logloss:0.50004\n",
      "[255]\tvalidation_0-logloss:0.499984\n",
      "[256]\tvalidation_0-logloss:0.499925\n",
      "[257]\tvalidation_0-logloss:0.499657\n",
      "[258]\tvalidation_0-logloss:0.499511\n",
      "[259]\tvalidation_0-logloss:0.499557\n",
      "[260]\tvalidation_0-logloss:0.499591\n",
      "[261]\tvalidation_0-logloss:0.499578\n",
      "[262]\tvalidation_0-logloss:0.499547\n",
      "[263]\tvalidation_0-logloss:0.499643\n",
      "[264]\tvalidation_0-logloss:0.499651\n",
      "[265]\tvalidation_0-logloss:0.499607\n",
      "[266]\tvalidation_0-logloss:0.499648\n",
      "[267]\tvalidation_0-logloss:0.499645\n",
      "[268]\tvalidation_0-logloss:0.499585\n",
      "Stopping. Best iteration:\n",
      "[258]\tvalidation_0-logloss:0.499511\n",
      "\n"
     ]
    },
    {
     "data": {
      "text/plain": [
       "XGBClassifier(base_score=0.5, booster='gbtree', colsample_bylevel=1,\n",
       "       colsample_bytree=1, gamma=0, learning_rate=0.1, max_delta_step=0,\n",
       "       max_depth=1, min_child_weight=1, missing=None, n_estimators=1000,\n",
       "       n_jobs=1, nthread=None, objective='binary:logistic', random_state=0,\n",
       "       reg_alpha=0, reg_lambda=1, scale_pos_weight=1, seed=None,\n",
       "       silent=True, subsample=1)"
      ]
     },
     "execution_count": 16,
     "metadata": {},
     "output_type": "execute_result"
    }
   ],
   "source": [
    "xg = xgb.XGBClassifier(n_estimators=1000, max_depth=1, objective= 'binary:logistic')\n",
    "cvx = x[:3500,:]; cvy = y[:3500];       # トレーニングデータ\n",
    "eval_set = [(x[3500:,:], y[3500:])]    # 検証用のデータ\n",
    "xg.fit(cvx, cvy, early_stopping_rounds=10, eval_metric=\"logloss\", eval_set=eval_set,verbose=True) # verboseを設定：途中経過をプリント"
   ]
  },
  {
   "cell_type": "code",
   "execution_count": 17,
   "metadata": {},
   "outputs": [
    {
     "data": {
      "text/plain": [
       "258"
      ]
     },
     "execution_count": 17,
     "metadata": {},
     "output_type": "execute_result"
    }
   ],
   "source": [
    "xg.best_iteration          # 最適なラウンド数"
   ]
  },
  {
   "cell_type": "code",
   "execution_count": 18,
   "metadata": {},
   "outputs": [
    {
     "data": {
      "text/plain": [
       "0.27958307786633962"
      ]
     },
     "execution_count": 18,
     "metadata": {},
     "output_type": "execute_result"
    }
   ],
   "source": [
    "1-xg.score(tx,ty)          # テスト誤差"
   ]
  },
  {
   "cell_type": "code",
   "execution_count": 19,
   "metadata": {},
   "outputs": [
    {
     "data": {
      "text/plain": [
       "array([[ 0.86406577,  0.13593425],\n",
       "       [ 0.75563854,  0.24436145],\n",
       "       [ 0.81863004,  0.18136998],\n",
       "       ..., \n",
       "       [ 0.32262337,  0.67737663],\n",
       "       [ 0.30946028,  0.69053972],\n",
       "       [ 0.1112811 ,  0.8887189 ]], dtype=float32)"
      ]
     },
     "execution_count": 19,
     "metadata": {},
     "output_type": "execute_result"
    }
   ],
   "source": [
    "xg.predict_proba(tx)      # 予測点における各ラベルの条件付き確率"
   ]
  },
  {
   "cell_type": "code",
   "execution_count": null,
   "metadata": {},
   "outputs": [],
   "source": []
  }
 ],
 "metadata": {
  "kernelspec": {
   "display_name": "Python 3",
   "language": "python",
   "name": "python3"
  },
  "language_info": {
   "codemirror_mode": {
    "name": "ipython",
    "version": 3
   },
   "file_extension": ".py",
   "mimetype": "text/x-python",
   "name": "python",
   "nbconvert_exporter": "python",
   "pygments_lexer": "ipython3",
   "version": "3.6.3"
  }
 },
 "nbformat": 4,
 "nbformat_minor": 2
}
