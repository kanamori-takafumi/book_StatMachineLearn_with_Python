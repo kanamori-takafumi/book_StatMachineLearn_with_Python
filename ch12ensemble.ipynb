{
 "cells": [
  {
   "cell_type": "code",
   "execution_count": 1,
   "metadata": {
    "collapsed": true
   },
   "outputs": [],
   "source": [
    "import numpy as np               \n",
    "import matplotlib.pyplot as plt  \n",
    "import pandas as pd\n",
    "from sklearn import tree\n",
    "from sklearn import ensemble\n",
    "from sklearn import datasets "
   ]
  },
  {
   "cell_type": "markdown",
   "metadata": {},
   "source": [
    "# 決定木"
   ]
  },
  {
   "cell_type": "code",
   "execution_count": 2,
   "metadata": {},
   "outputs": [
    {
     "data": {
      "text/plain": [
       "0.0"
      ]
     },
     "execution_count": 2,
     "metadata": {},
     "output_type": "execute_result"
    }
   ],
   "source": [
    "d = datasets.load_wine()              # wineデータ読込み\n",
    "dt = tree.DecisionTreeClassifier()    # 決定木\n",
    "dt.fit(d.data, d.target)              # フィッティング\n",
    "1-dt.score(d.data,d.target)           # トレーニング誤差"
   ]
  },
  {
   "cell_type": "code",
   "execution_count": 3,
   "metadata": {},
   "outputs": [
    {
     "data": {
      "text/plain": [
       "0.022471910112359605"
      ]
     },
     "execution_count": 3,
     "metadata": {},
     "output_type": "execute_result"
    }
   ],
   "source": [
    "dt.set_params(max_depth=3)            # 木の深さの最大値を設定\n",
    "dt.fit(d.data, d.target)              # フィッティング\n",
    "1-dt.score(d.data,d.target)           # トレーニング誤差"
   ]
  },
  {
   "cell_type": "code",
   "execution_count": 4,
   "metadata": {
    "collapsed": true
   },
   "outputs": [],
   "source": [
    "import graphviz            # graphviz.Source を使う\n",
    "# graphvizで決定木を描画\n",
    "graph = graphviz.Source(tree.export_graphviz(dt,out_file=None))\n",
    "# graph.render(\"DTplot\")     # 図をファイルに出力"
   ]
  },
  {
   "cell_type": "markdown",
   "metadata": {},
   "source": [
    "# バギング"
   ]
  },
  {
   "cell_type": "code",
   "execution_count": 5,
   "metadata": {},
   "outputs": [
    {
     "data": {
      "text/plain": [
       "array([4, 4, 2, 0, 1])"
      ]
     },
     "execution_count": 5,
     "metadata": {},
     "output_type": "execute_result"
    }
   ],
   "source": [
    "# 1,2,3,4,5 の復元抽出(リサンプリング)\n",
    "np.random.choice(5,5)"
   ]
  },
  {
   "cell_type": "code",
   "execution_count": 6,
   "metadata": {},
   "outputs": [
    {
     "data": {
      "text/plain": [
       "array([1, 0, 4, 2, 3])"
      ]
     },
     "execution_count": 6,
     "metadata": {},
     "output_type": "execute_result"
    }
   ],
   "source": [
    "# 0，1,2,3,4 の非復元抽出\n",
    "np.random.choice(5,5,replace=False)"
   ]
  },
  {
   "cell_type": "code",
   "execution_count": 10,
   "metadata": {},
   "outputs": [
    {
     "data": {
      "text/plain": [
       "0.020000000000000018"
      ]
     },
     "execution_count": 10,
     "metadata": {},
     "output_type": "execute_result"
    }
   ],
   "source": [
    "d = datasets.load_iris()                 # データ読込み\n",
    "i = np.random.choice(d.data.shape[0],100,replace=False)\n",
    "ti = np.delete(np.arange(d.data.shape[0]),i)\n",
    "x,    y = d.data[i,:],   d.target[i]        # トレーニングデータ\n",
    "tx, ty = d.data[ti,:], d.target[ti]      # テストデータ\n",
    "ba = ensemble.BaggingClassifier(n_estimators=100)\n",
    "ba.fit(x,y)                         # バギング(B=100)\n",
    "1-ba.score(tx,ty)                   # テスト誤差"
   ]
  },
  {
   "cell_type": "code",
   "execution_count": 11,
   "metadata": {},
   "outputs": [
    {
     "data": {
      "text/plain": [
       "0.020000000000000018"
      ]
     },
     "execution_count": 11,
     "metadata": {},
     "output_type": "execute_result"
    }
   ],
   "source": [
    "dt = tree.DecisionTreeClassifier()  # 単独の決定木を学習\n",
    "dt.fit(x,y)\n",
    "1-dt.score(tx,ty)                   # テスト誤差"
   ]
  },
  {
   "cell_type": "markdown",
   "metadata": {},
   "source": [
    "# ランダム・フォレスト"
   ]
  },
  {
   "cell_type": "code",
   "execution_count": 13,
   "metadata": {},
   "outputs": [
    {
     "data": {
      "text/plain": [
       "0.08108108108108103"
      ]
     },
     "execution_count": 13,
     "metadata": {},
     "output_type": "execute_result"
    }
   ],
   "source": [
    "d  = pd.read_csv('data/stagec.csv').values   # データ読込み\n",
    "xa, ya = np.array(d[:,:6]).astype('float'), d[:,7]\n",
    "i = ~np.isnan(xa).any(axis=1); xa, ya = xa[i,:], ya[i] # nan 除去\n",
    "x, y    = xa[:100,:], ya[:100]          # トレーニングデータ\n",
    "tx, ty = xa[100:,:], ya[100:]          # テストデータ\n",
    "# ランダムフォレスト：木の数 10\n",
    "rf = ensemble.RandomForestClassifier(n_estimators=10)\n",
    "rf.fit(x,y)\n",
    "1-rf.score(tx,ty)    # テスト誤差"
   ]
  },
  {
   "cell_type": "code",
   "execution_count": 14,
   "metadata": {},
   "outputs": [
    {
     "data": {
      "text/plain": [
       "0.027027027027026973"
      ]
     },
     "execution_count": 14,
     "metadata": {},
     "output_type": "execute_result"
    }
   ],
   "source": [
    "# ランダムフォレスト：木の数 1000\n",
    "rf.set_params(n_estimators=1000)\n",
    "rf.fit(x,y)\n",
    "1-rf.score(tx,ty)    # テスト誤差"
   ]
  },
  {
   "cell_type": "code",
   "execution_count": 15,
   "metadata": {},
   "outputs": [
    {
     "data": {
      "text/plain": [
       "0.054054054054054057"
      ]
     },
     "execution_count": 15,
     "metadata": {},
     "output_type": "execute_result"
    }
   ],
   "source": [
    "dt = tree.DecisionTreeClassifier()      #  決定木\n",
    "dt.fit(x,y)\n",
    "1-dt.score(tx,ty)    # テスト誤差"
   ]
  },
  {
   "cell_type": "code",
   "execution_count": 16,
   "metadata": {},
   "outputs": [
    {
     "data": {
      "text/plain": [
       "0.027027027027026973"
      ]
     },
     "execution_count": 16,
     "metadata": {},
     "output_type": "execute_result"
    }
   ],
   "source": [
    "ba = ensemble.BaggingClassifier(n_estimators=10)  # バギング(B=10)\n",
    "ba.fit(x,y)\n",
    "1-ba.score(tx,ty)    # テスト誤差"
   ]
  },
  {
   "cell_type": "markdown",
   "metadata": {},
   "source": [
    "# ブースティング"
   ]
  },
  {
   "cell_type": "code",
   "execution_count": 17,
   "metadata": {
    "collapsed": true
   },
   "outputs": [],
   "source": [
    "n = 4000                               # トレーニングデータ数\n",
    "d = pd.read_csv('data/soldat.csv').values;  # データ読込み\n",
    "d=np.delete(d,70,1)                    # nanを除去\n",
    "i  = np.random.choice(len(d),n,replace=False)  \n",
    "ti = np.delete(np.arange(len(d)), i)           \n",
    "x, y  = d[i,:71], d[i,71]             # トレーニングデータ\n",
    "tx, ty = d[ti,:71], d[ti,71]        # テストデータ\n",
    "T = 1000                                    # ブースティング：ラウンド数\n",
    "bl = tree.DecisionTreeClassifier(max_depth=1)               # 決定株\n",
    "# 決定株でアダブーストを実行\n",
    "ab = ensemble.AdaBoostClassifier(base_estimator=bl, n_estimators=T)\n",
    "ab.fit(x,y)                                # フィッティング\n",
    "# 各ラウンドの誤差\n",
    "ada_tr_err = np.zeros((T,))            \n",
    "for i, score in enumerate(ab.staged_score(x,y)): \n",
    "    ada_tr_err[i] = 1-score                     # トレーニング誤差\n",
    "ada_te_err = np.zeros((T,))            \n",
    "for i, score in enumerate(ab.staged_score(tx,ty)): \n",
    "    ada_te_err[i] = 1-score                     # テスト誤差"
   ]
  },
  {
   "cell_type": "code",
   "execution_count": 18,
   "metadata": {},
   "outputs": [
    {
     "data": {
      "image/png": "[encoded data removed]",
      "text/plain": [
       "<matplotlib.figure.Figure at 0x1a15cf56d8>"
      ]
     },
     "metadata": {},
     "output_type": "display_data"
    }
   ],
   "source": [
    "plt.xlabel('round: t')\n",
    "plt.ylabel('error')\n",
    "plt.plot(ada_tr_err[::10],label='training error',linestyle='dashed',lw=3)\n",
    "plt.plot(ada_te_err[::10],label='test error',    linestyle='solid', lw=3)\n",
    "plt.legend()\n",
    "plt.show()"
   ]
  },
  {
   "cell_type": "code",
   "execution_count": 20,
   "metadata": {},
   "outputs": [
    {
     "data": {
      "text/plain": [
       "0.23605150214592274"
      ]
     },
     "execution_count": 20,
     "metadata": {},
     "output_type": "execute_result"
    }
   ],
   "source": [
    "import xgboost as xgb          # xgboostを使う\n",
    "# データ読込み\n",
    "n = 4000\n",
    "d = pd.read_csv('data/soldat.csv').values; d = np.delete(d,70,1)\n",
    "i  = np.random.choice(len(d),n,replace=False)\n",
    "ti = np.delete(np.arange(len(d)), i)\n",
    "x, y = d[i,:71], d[i,71]\n",
    "tx, ty = d[ti,:71], d[ti,71]\n",
    "T = 1000                       # ラウンド数 1000\n",
    "xg = xgb.XGBClassifier(n_estimators=T, max_depth=1, objective='binary:logistic')\n",
    "\n",
    "xg.fit(x,y)                    # フィッティング\n",
    "1-xg.score(tx,ty)              # テスト誤差"
   ]
  },
  {
   "cell_type": "code",
   "execution_count": 21,
   "metadata": {},
   "outputs": [
    {
     "name": "stdout",
     "output_type": "stream",
     "text": [
      "[0]\tvalidation_0-logloss:0.67494\n",
      "Will train until validation_0-logloss hasn't improved in 10 rounds.\n",
      "[1]\tvalidation_0-logloss:0.663866\n",
      "[2]\tvalidation_0-logloss:0.650502\n",
      "[3]\tvalidation_0-logloss:0.641174\n",
      "[4]\tvalidation_0-logloss:0.632024\n",
      "[5]\tvalidation_0-logloss:0.626014\n",
      "[6]\tvalidation_0-logloss:0.6187\n",
      "[7]\tvalidation_0-logloss:0.614404\n",
      "[8]\tvalidation_0-logloss:0.608655\n",
      "[9]\tvalidation_0-logloss:0.603559\n",
      "[10]\tvalidation_0-logloss:0.599429\n",
      "[11]\tvalidation_0-logloss:0.597102\n",
      "[12]\tvalidation_0-logloss:0.593414\n",
      "[13]\tvalidation_0-logloss:0.590661\n",
      "[14]\tvalidation_0-logloss:0.588863\n",
      "[15]\tvalidation_0-logloss:0.586012\n",
      "[16]\tvalidation_0-logloss:0.583897\n",
      "[17]\tvalidation_0-logloss:0.582829\n",
      "[18]\tvalidation_0-logloss:0.581178\n",
      "[19]\tvalidation_0-logloss:0.579685\n",
      "[20]\tvalidation_0-logloss:0.578658\n",
      "[21]\tvalidation_0-logloss:0.576264\n",
      "[22]\tvalidation_0-logloss:0.575066\n",
      "[23]\tvalidation_0-logloss:0.574417\n",
      "[24]\tvalidation_0-logloss:0.573423\n",
      "[25]\tvalidation_0-logloss:0.572647\n",
      "[26]\tvalidation_0-logloss:0.572112\n",
      "[27]\tvalidation_0-logloss:0.571807\n",
      "[28]\tvalidation_0-logloss:0.570764\n",
      "[29]\tvalidation_0-logloss:0.569685\n",
      "[30]\tvalidation_0-logloss:0.56906\n",
      "[31]\tvalidation_0-logloss:0.56857\n",
      "[32]\tvalidation_0-logloss:0.567647\n",
      "[33]\tvalidation_0-logloss:0.566589\n",
      "[34]\tvalidation_0-logloss:0.565845\n",
      "[35]\tvalidation_0-logloss:0.564919\n",
      "[36]\tvalidation_0-logloss:0.564419\n",
      "[37]\tvalidation_0-logloss:0.56316\n",
      "[38]\tvalidation_0-logloss:0.562632\n",
      "[39]\tvalidation_0-logloss:0.56235\n",
      "[40]\tvalidation_0-logloss:0.561566\n",
      "[41]\tvalidation_0-logloss:0.561376\n",
      "[42]\tvalidation_0-logloss:0.560714\n",
      "[43]\tvalidation_0-logloss:0.560322\n",
      "[44]\tvalidation_0-logloss:0.559659\n",
      "[45]\tvalidation_0-logloss:0.559169\n",
      "[46]\tvalidation_0-logloss:0.558985\n",
      "[47]\tvalidation_0-logloss:0.558299\n",
      "[48]\tvalidation_0-logloss:0.557695\n",
      "[49]\tvalidation_0-logloss:0.557535\n",
      "[50]\tvalidation_0-logloss:0.556936\n",
      "[51]\tvalidation_0-logloss:0.556633\n",
      "[52]\tvalidation_0-logloss:0.556376\n",
      "[53]\tvalidation_0-logloss:0.555628\n",
      "[54]\tvalidation_0-logloss:0.555098\n",
      "[55]\tvalidation_0-logloss:0.554853\n",
      "[56]\tvalidation_0-logloss:0.554551\n",
      "[57]\tvalidation_0-logloss:0.554379\n",
      "[58]\tvalidation_0-logloss:0.553819\n",
      "[59]\tvalidation_0-logloss:0.553454\n",
      "[60]\tvalidation_0-logloss:0.553071\n",
      "[61]\tvalidation_0-logloss:0.553019\n",
      "[62]\tvalidation_0-logloss:0.552524\n",
      "[63]\tvalidation_0-logloss:0.552362\n",
      "[64]\tvalidation_0-logloss:0.552023\n",
      "[65]\tvalidation_0-logloss:0.551417\n",
      "[66]\tvalidation_0-logloss:0.551253\n",
      "[67]\tvalidation_0-logloss:0.551049\n",
      "[68]\tvalidation_0-logloss:0.550737\n",
      "[69]\tvalidation_0-logloss:0.550319\n",
      "[70]\tvalidation_0-logloss:0.54984\n",
      "[71]\tvalidation_0-logloss:0.549214\n",
      "[72]\tvalidation_0-logloss:0.549167\n",
      "[73]\tvalidation_0-logloss:0.549226\n",
      "[74]\tvalidation_0-logloss:0.548494\n",
      "[75]\tvalidation_0-logloss:0.548522\n",
      "[76]\tvalidation_0-logloss:0.548158\n",
      "[77]\tvalidation_0-logloss:0.547719\n",
      "[78]\tvalidation_0-logloss:0.547549\n",
      "[79]\tvalidation_0-logloss:0.547081\n",
      "[80]\tvalidation_0-logloss:0.546613\n",
      "[81]\tvalidation_0-logloss:0.546369\n",
      "[82]\tvalidation_0-logloss:0.545614\n",
      "[83]\tvalidation_0-logloss:0.545797\n",
      "[84]\tvalidation_0-logloss:0.545669\n",
      "[85]\tvalidation_0-logloss:0.545519\n",
      "[86]\tvalidation_0-logloss:0.545272\n",
      "[87]\tvalidation_0-logloss:0.545153\n",
      "[88]\tvalidation_0-logloss:0.545202\n",
      "[89]\tvalidation_0-logloss:0.545292\n",
      "[90]\tvalidation_0-logloss:0.545084\n",
      "[91]\tvalidation_0-logloss:0.545006\n",
      "[92]\tvalidation_0-logloss:0.54484\n",
      "[93]\tvalidation_0-logloss:0.544914\n",
      "[94]\tvalidation_0-logloss:0.544515\n",
      "[95]\tvalidation_0-logloss:0.544455\n",
      "[96]\tvalidation_0-logloss:0.544074\n",
      "[97]\tvalidation_0-logloss:0.543776\n",
      "[98]\tvalidation_0-logloss:0.543322\n",
      "[99]\tvalidation_0-logloss:0.542656\n",
      "[100]\tvalidation_0-logloss:0.542558\n",
      "[101]\tvalidation_0-logloss:0.542483\n",
      "[102]\tvalidation_0-logloss:0.542274\n",
      "[103]\tvalidation_0-logloss:0.542165\n",
      "[104]\tvalidation_0-logloss:0.542275\n",
      "[105]\tvalidation_0-logloss:0.542382\n",
      "[106]\tvalidation_0-logloss:0.542108\n",
      "[107]\tvalidation_0-logloss:0.542175\n",
      "[108]\tvalidation_0-logloss:0.541851\n",
      "[109]\tvalidation_0-logloss:0.541692\n",
      "[110]\tvalidation_0-logloss:0.541516\n",
      "[111]\tvalidation_0-logloss:0.541218\n",
      "[112]\tvalidation_0-logloss:0.541075\n",
      "[113]\tvalidation_0-logloss:0.540885\n",
      "[114]\tvalidation_0-logloss:0.540797\n",
      "[115]\tvalidation_0-logloss:0.5407\n",
      "[116]\tvalidation_0-logloss:0.540654\n",
      "[117]\tvalidation_0-logloss:0.540127\n",
      "[118]\tvalidation_0-logloss:0.54025\n",
      "[119]\tvalidation_0-logloss:0.540231\n",
      "[120]\tvalidation_0-logloss:0.54031\n",
      "[121]\tvalidation_0-logloss:0.540056\n",
      "[122]\tvalidation_0-logloss:0.539941\n",
      "[123]\tvalidation_0-logloss:0.539561\n",
      "[124]\tvalidation_0-logloss:0.539391\n",
      "[125]\tvalidation_0-logloss:0.539228\n",
      "[126]\tvalidation_0-logloss:0.539008\n",
      "[127]\tvalidation_0-logloss:0.539091\n",
      "[128]\tvalidation_0-logloss:0.538829\n",
      "[129]\tvalidation_0-logloss:0.539052\n",
      "[130]\tvalidation_0-logloss:0.539029\n",
      "[131]\tvalidation_0-logloss:0.538861\n",
      "[132]\tvalidation_0-logloss:0.538689\n",
      "[133]\tvalidation_0-logloss:0.538336\n",
      "[134]\tvalidation_0-logloss:0.537973\n",
      "[135]\tvalidation_0-logloss:0.538114\n",
      "[136]\tvalidation_0-logloss:0.538225\n",
      "[137]\tvalidation_0-logloss:0.538206\n",
      "[138]\tvalidation_0-logloss:0.537964\n",
      "[139]\tvalidation_0-logloss:0.537858\n",
      "[140]\tvalidation_0-logloss:0.53761\n",
      "[141]\tvalidation_0-logloss:0.537608\n",
      "[142]\tvalidation_0-logloss:0.537233\n",
      "[143]\tvalidation_0-logloss:0.537086\n",
      "[144]\tvalidation_0-logloss:0.536981\n",
      "[145]\tvalidation_0-logloss:0.536783\n",
      "[146]\tvalidation_0-logloss:0.536788\n",
      "[147]\tvalidation_0-logloss:0.53666\n",
      "[148]\tvalidation_0-logloss:0.536555\n",
      "[149]\tvalidation_0-logloss:0.536388\n",
      "[150]\tvalidation_0-logloss:0.536265\n",
      "[151]\tvalidation_0-logloss:0.536033\n",
      "[152]\tvalidation_0-logloss:0.536005\n",
      "[153]\tvalidation_0-logloss:0.536104\n",
      "[154]\tvalidation_0-logloss:0.535907\n",
      "[155]\tvalidation_0-logloss:0.535769\n",
      "[156]\tvalidation_0-logloss:0.535767\n",
      "[157]\tvalidation_0-logloss:0.535883\n",
      "[158]\tvalidation_0-logloss:0.535827\n",
      "[159]\tvalidation_0-logloss:0.535504\n",
      "[160]\tvalidation_0-logloss:0.535409\n",
      "[161]\tvalidation_0-logloss:0.535434\n",
      "[162]\tvalidation_0-logloss:0.535222\n",
      "[163]\tvalidation_0-logloss:0.535224\n",
      "[164]\tvalidation_0-logloss:0.534898\n",
      "[165]\tvalidation_0-logloss:0.534925\n",
      "[166]\tvalidation_0-logloss:0.534566\n",
      "[167]\tvalidation_0-logloss:0.534098\n",
      "[168]\tvalidation_0-logloss:0.533953\n",
      "[169]\tvalidation_0-logloss:0.533896\n",
      "[170]\tvalidation_0-logloss:0.533874\n",
      "[171]\tvalidation_0-logloss:0.533792\n",
      "[172]\tvalidation_0-logloss:0.533907\n",
      "[173]\tvalidation_0-logloss:0.533721\n",
      "[174]\tvalidation_0-logloss:0.533555\n",
      "[175]\tvalidation_0-logloss:0.533594\n",
      "[176]\tvalidation_0-logloss:0.533295\n",
      "[177]\tvalidation_0-logloss:0.533461\n",
      "[178]\tvalidation_0-logloss:0.533477\n",
      "[179]\tvalidation_0-logloss:0.533388\n",
      "[180]\tvalidation_0-logloss:0.533144\n",
      "[181]\tvalidation_0-logloss:0.533144\n",
      "[182]\tvalidation_0-logloss:0.533185\n",
      "[183]\tvalidation_0-logloss:0.532777\n",
      "[184]\tvalidation_0-logloss:0.532672\n",
      "[185]\tvalidation_0-logloss:0.532967\n",
      "[186]\tvalidation_0-logloss:0.532807\n",
      "[187]\tvalidation_0-logloss:0.532688\n",
      "[188]\tvalidation_0-logloss:0.532594\n",
      "[189]\tvalidation_0-logloss:0.532592\n",
      "[190]\tvalidation_0-logloss:0.532622\n",
      "[191]\tvalidation_0-logloss:0.532734\n",
      "[192]\tvalidation_0-logloss:0.532703\n",
      "[193]\tvalidation_0-logloss:0.532767\n",
      "[194]\tvalidation_0-logloss:0.532607\n",
      "[195]\tvalidation_0-logloss:0.532559\n",
      "[196]\tvalidation_0-logloss:0.532258\n",
      "[197]\tvalidation_0-logloss:0.532092\n",
      "[198]\tvalidation_0-logloss:0.532138\n",
      "[199]\tvalidation_0-logloss:0.531868\n",
      "[200]\tvalidation_0-logloss:0.531647\n",
      "[201]\tvalidation_0-logloss:0.531519\n",
      "[202]\tvalidation_0-logloss:0.531824\n",
      "[203]\tvalidation_0-logloss:0.531974\n",
      "[204]\tvalidation_0-logloss:0.532006\n",
      "[205]\tvalidation_0-logloss:0.532011\n",
      "[206]\tvalidation_0-logloss:0.531873\n",
      "[207]\tvalidation_0-logloss:0.531637\n",
      "[208]\tvalidation_0-logloss:0.531585\n",
      "[209]\tvalidation_0-logloss:0.531499\n",
      "[210]\tvalidation_0-logloss:0.531616\n",
      "[211]\tvalidation_0-logloss:0.531466\n",
      "[212]\tvalidation_0-logloss:0.531213\n",
      "[213]\tvalidation_0-logloss:0.531265\n",
      "[214]\tvalidation_0-logloss:0.531204\n",
      "[215]\tvalidation_0-logloss:0.531182\n",
      "[216]\tvalidation_0-logloss:0.530934\n",
      "[217]\tvalidation_0-logloss:0.53103\n",
      "[218]\tvalidation_0-logloss:0.531135\n",
      "[219]\tvalidation_0-logloss:0.531024\n",
      "[220]\tvalidation_0-logloss:0.531069\n",
      "[221]\tvalidation_0-logloss:0.530697\n",
      "[222]\tvalidation_0-logloss:0.530604\n",
      "[223]\tvalidation_0-logloss:0.530483\n",
      "[224]\tvalidation_0-logloss:0.530215\n",
      "[225]\tvalidation_0-logloss:0.530215\n",
      "[226]\tvalidation_0-logloss:0.530468\n",
      "[227]\tvalidation_0-logloss:0.530617\n",
      "[228]\tvalidation_0-logloss:0.530415\n",
      "[229]\tvalidation_0-logloss:0.530178\n"
     ]
    },
    {
     "name": "stdout",
     "output_type": "stream",
     "text": [
      "[230]\tvalidation_0-logloss:0.530295\n",
      "[231]\tvalidation_0-logloss:0.530212\n",
      "[232]\tvalidation_0-logloss:0.53033\n",
      "[233]\tvalidation_0-logloss:0.530416\n",
      "[234]\tvalidation_0-logloss:0.5303\n",
      "[235]\tvalidation_0-logloss:0.530194\n",
      "[236]\tvalidation_0-logloss:0.530142\n",
      "[237]\tvalidation_0-logloss:0.53013\n",
      "[238]\tvalidation_0-logloss:0.530132\n",
      "[239]\tvalidation_0-logloss:0.530081\n",
      "[240]\tvalidation_0-logloss:0.530331\n",
      "[241]\tvalidation_0-logloss:0.529983\n",
      "[242]\tvalidation_0-logloss:0.529927\n",
      "[243]\tvalidation_0-logloss:0.529738\n",
      "[244]\tvalidation_0-logloss:0.530042\n",
      "[245]\tvalidation_0-logloss:0.529888\n",
      "[246]\tvalidation_0-logloss:0.529755\n",
      "[247]\tvalidation_0-logloss:0.529776\n",
      "[248]\tvalidation_0-logloss:0.529789\n",
      "[249]\tvalidation_0-logloss:0.529828\n",
      "[250]\tvalidation_0-logloss:0.529737\n",
      "[251]\tvalidation_0-logloss:0.529841\n",
      "[252]\tvalidation_0-logloss:0.529727\n",
      "[253]\tvalidation_0-logloss:0.529848\n",
      "[254]\tvalidation_0-logloss:0.529803\n",
      "[255]\tvalidation_0-logloss:0.529863\n",
      "[256]\tvalidation_0-logloss:0.529243\n",
      "[257]\tvalidation_0-logloss:0.529038\n",
      "[258]\tvalidation_0-logloss:0.52904\n",
      "[259]\tvalidation_0-logloss:0.529061\n",
      "[260]\tvalidation_0-logloss:0.529094\n",
      "[261]\tvalidation_0-logloss:0.529197\n",
      "[262]\tvalidation_0-logloss:0.529283\n",
      "[263]\tvalidation_0-logloss:0.529556\n",
      "[264]\tvalidation_0-logloss:0.52934\n",
      "[265]\tvalidation_0-logloss:0.529321\n",
      "[266]\tvalidation_0-logloss:0.529385\n",
      "[267]\tvalidation_0-logloss:0.529506\n",
      "Stopping. Best iteration:\n",
      "[257]\tvalidation_0-logloss:0.529038\n",
      "\n"
     ]
    },
    {
     "data": {
      "text/plain": [
       "XGBClassifier(base_score=0.5, booster='gbtree', colsample_bylevel=1,\n",
       "       colsample_bytree=1, gamma=0, learning_rate=0.1, max_delta_step=0,\n",
       "       max_depth=1, min_child_weight=1, missing=None, n_estimators=1000,\n",
       "       n_jobs=1, nthread=None, objective='binary:logistic', random_state=0,\n",
       "       reg_alpha=0, reg_lambda=1, scale_pos_weight=1, seed=None,\n",
       "       silent=True, subsample=1)"
      ]
     },
     "execution_count": 21,
     "metadata": {},
     "output_type": "execute_result"
    }
   ],
   "source": [
    "xg = xgb.XGBClassifier(n_estimators=1000, max_depth=1, objective= 'binary:logistic')\n",
    "cvx = x[:3500,:]; cvy = y[:3500];       # トレーニングデータ\n",
    "eval_set = [(x[3500:,:], y[3500:])]    # 検証用のデータ\n",
    "xg.fit(cvx, cvy, early_stopping_rounds=10, eval_metric=\"logloss\", eval_set=eval_set,verbose=True) # verboseを設定：途中経過をプリント"
   ]
  },
  {
   "cell_type": "code",
   "execution_count": 22,
   "metadata": {},
   "outputs": [
    {
     "data": {
      "text/plain": [
       "257"
      ]
     },
     "execution_count": 22,
     "metadata": {},
     "output_type": "execute_result"
    }
   ],
   "source": [
    "xg.best_iteration          # 最適なラウンド数"
   ]
  },
  {
   "cell_type": "code",
   "execution_count": 23,
   "metadata": {},
   "outputs": [
    {
     "data": {
      "text/plain": [
       "0.25321888412017168"
      ]
     },
     "execution_count": 23,
     "metadata": {},
     "output_type": "execute_result"
    }
   ],
   "source": [
    "1-xg.score(tx,ty)          # テスト誤差"
   ]
  },
  {
   "cell_type": "code",
   "execution_count": 24,
   "metadata": {},
   "outputs": [
    {
     "data": {
      "text/plain": [
       "array([[ 0.87767226,  0.12232777],\n",
       "       [ 0.55203164,  0.44796836],\n",
       "       [ 0.73098552,  0.26901448],\n",
       "       ..., \n",
       "       [ 0.2073034 ,  0.7926966 ],\n",
       "       [ 0.05452764,  0.94547236],\n",
       "       [ 0.16084927,  0.83915073]], dtype=float32)"
      ]
     },
     "execution_count": 24,
     "metadata": {},
     "output_type": "execute_result"
    }
   ],
   "source": [
    "xg.predict_proba(tx)      # 予測点における各ラベルの条件付き確率"
   ]
  },
  {
   "cell_type": "code",
   "execution_count": null,
   "metadata": {
    "collapsed": true
   },
   "outputs": [],
   "source": []
  }
 ],
 "metadata": {
  "kernelspec": {
   "display_name": "Python 3",
   "language": "python",
   "name": "python3"
  },
  "language_info": {
   "codemirror_mode": {
    "name": "ipython",
    "version": 3
   },
   "file_extension": ".py",
   "mimetype": "text/x-python",
   "name": "python",
   "nbconvert_exporter": "python",
   "pygments_lexer": "ipython3",
   "version": "3.6.3"
  }
 },
 "nbformat": 4,
 "nbformat_minor": 2
}
