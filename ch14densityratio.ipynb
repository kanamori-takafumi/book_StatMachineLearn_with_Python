{
 "cells": [
  {
   "cell_type": "code",
   "execution_count": 1,
   "metadata": {
    "collapsed": true
   },
   "outputs": [],
   "source": [
    "import numpy as np               \n",
    "import matplotlib.pyplot as plt \n",
    "import statsmodels.api as sm\n",
    "from scipy.stats import norm"
   ]
  },
  {
   "cell_type": "markdown",
   "metadata": {},
   "source": [
    "# 密度比の推定"
   ]
  },
  {
   "cell_type": "code",
   "execution_count": 2,
   "metadata": {
    "collapsed": true
   },
   "outputs": [],
   "source": [
    "# データ設定 \n",
    "n, m = 100, 200\n",
    "nu_mean, nu_sd = -0.5, 1\n",
    "a_mean,  a_sd = 1, 0.8\n",
    "newdat = np.linspace(-4,4,500).reshape(500,1)  # 予測点\n",
    "tnu =  norm.pdf(newdat, nu_mean, nu_sd)            # 確率密度の計算\n",
    "tde = (norm.pdf(newdat, a_mean, a_sd)+tnu)/2\n",
    "tw = tnu/tde                                   # 予測点上での真の密度比"
   ]
  },
  {
   "cell_type": "code",
   "execution_count": 3,
   "metadata": {
    "collapsed": true
   },
   "outputs": [],
   "source": [
    "# データ生成\n",
    "nu = np.random.normal(loc=nu_mean, scale=nu_sd, size=n).reshape(n,1)\n",
    "ma = np.random.binomial(m,0.5); mb = m-ma\n",
    "de = np.r_[np.random.normal(loc=nu_mean,scale=nu_sd,size=ma).reshape(ma,1), np.random.normal(loc=a_mean, scale=a_sd, size=mb).reshape(mb,1)]"
   ]
  },
  {
   "cell_type": "code",
   "execution_count": 4,
   "metadata": {},
   "outputs": [
    {
     "data": {
      "image/png": "[encoded data removed]",
      "text/plain": [
       "<matplotlib.figure.Figure at 0x1c13d09d30>"
      ]
     },
     "metadata": {},
     "output_type": "display_data"
    }
   ],
   "source": [
    "from common.DensityRatio import kernelDensityRatio\n",
    "plt.plot(newdat,tw,lw=2)            # 真の密度比関数のプロット\n",
    "# データ点のプロット\n",
    "plt.scatter(nu.reshape(n,),np.repeat(0.3,n),marker='.',c='black',s=20)\n",
    "plt.scatter(de.reshape(m,),np.repeat(0.1,m),marker='x',c='gray',s=20)\n",
    "# 以下のカーネル幅で推定\n",
    "gammas = np.array([0.01, 0.1, 1])\n",
    "for g in gammas:\n",
    "    dr = kernelDensityRatio(gamma=g)\n",
    "    dr.fit(de,nu)                   # データへのフィッティング\n",
    "    drp = dr.predict(newdat)        # 密度比の予測値\n",
    "    plt.plot(newdat,drp, c='red',linestyle='dashed',lw=2)  # プロット\n",
    "plt.show()   "
   ]
  },
  {
   "cell_type": "markdown",
   "metadata": {},
   "source": [
    "# 密度比推定のための交差検証法"
   ]
  },
  {
   "cell_type": "code",
   "execution_count": 5,
   "metadata": {
    "collapsed": true
   },
   "outputs": [],
   "source": [
    "from scipy.spatial import distance        # distanceの計算\n",
    "cvk = 5                                                      # 交差検証法のK\n",
    "n, m = nu.shape[0], de.shape[0]          # データ数\n",
    "# カーネル幅パラメータの候補を生成\n",
    "idx = np.random.choice(n+m,round((n+m)/2))\n",
    "gammas = 1/np.percentile(distance.pdist(np.r_[nu,de][idx,:]),[1,99])**2\n",
    "gammas = np.logspace(np.log10(gammas.min()/100), np.log10(gammas.max()*100),10)\n",
    "# 正則化パラメータ lambda の候補を生成 \n",
    "lams = np.array([(min(n,m))**(-0.9)])\n",
    "# モデルパラメータの候補\n",
    "modelpars = np.array([(x,y) for x in gammas for y in lams])  "
   ]
  },
  {
   "cell_type": "code",
   "execution_count": 6,
   "metadata": {},
   "outputs": [
    {
     "data": {
      "text/plain": [
       "(0.058736149499858691, 0.015848931924611134)"
      ]
     },
     "execution_count": 6,
     "metadata": {},
     "output_type": "execute_result"
    }
   ],
   "source": [
    "from common.DensityRatio import kernelDensityRatio\n",
    "# それぞれのデータを5グループに分ける\n",
    "inu = np.repeat(np.arange(cvk),np.ceil(n/cvk))\n",
    "inu = inu[np.random.choice(n,n,replace=False)]\n",
    "ide = np.repeat(np.arange(cvk),np.ceil(m/cvk))\n",
    "ide = ide[np.random.choice(m,m,replace=False)]\n",
    "cvloss = []\n",
    "for gamma, lam in modelpars:\n",
    "    tcvloss = []\n",
    "    for k in np.arange(cvk):\n",
    "        # トレーニングデータ\n",
    "        trnu, trde = nu[inu!=k,:], de[ide!=k,:]\n",
    "        # テストデータ\n",
    "        tenu, tede = nu[inu==k,:], de[ide==k,:]\n",
    "        # 指定されたモデルパラメータで密度比を推定\n",
    "        kdr =kernelDensityRatio(gamma=gamma, lam=lam)\n",
    "        kdr.fit(trde, trnu)                             # 推定\n",
    "        wde = kdr.predict(tede)                         # de上で予測\n",
    "        wnu = kdr.predict(tenu)                         # nu上で予測\n",
    "        tcvloss.append(np.mean(wde**2)/2-np.mean(wnu))  # 二乗損失\n",
    "    cvloss.append(np.mean(tcvloss))\n",
    "# 最適なモデルパラメータ\n",
    "optgamma,optlam = modelpars[np.argmin(cvloss),:]\n",
    "optgamma,optlam"
   ]
  },
  {
   "cell_type": "code",
   "execution_count": 7,
   "metadata": {},
   "outputs": [
    {
     "data": {
      "image/png": "[encoded data removed]",
      "text/plain": [
       "<matplotlib.figure.Figure at 0x10c2e2438>"
      ]
     },
     "metadata": {},
     "output_type": "display_data"
    }
   ],
   "source": [
    "plt.xscale('log'); plt.xlabel('gamma'); plt.ylabel('cv loss')\n",
    "plt.scatter(gammas, cvloss)\n",
    "plt.show()"
   ]
  },
  {
   "cell_type": "code",
   "execution_count": 8,
   "metadata": {},
   "outputs": [
    {
     "data": {
      "text/plain": [
       "array([  1.43549589e+00,   1.44049714e+00,   1.44547056e+00,\n",
       "         1.45041570e+00,   1.45533213e+00,   1.46021942e+00,\n",
       "         1.46507713e+00,   1.46990481e+00,   1.47470205e+00,\n",
       "         1.47946839e+00,   1.48420341e+00,   1.48890668e+00,\n",
       "         1.49357775e+00,   1.49821621e+00,   1.50282162e+00,\n",
       "         1.50739354e+00,   1.51193156e+00,   1.51643524e+00,\n",
       "         1.52090416e+00,   1.52533790e+00,   1.52973602e+00,\n",
       "         1.53409811e+00,   1.53842374e+00,   1.54271250e+00,\n",
       "         1.54696397e+00,   1.55117773e+00,   1.55535336e+00,\n",
       "         1.55949045e+00,   1.56358859e+00,   1.56764738e+00,\n",
       "         1.57166639e+00,   1.57564523e+00,   1.57958348e+00,\n",
       "         1.58348075e+00,   1.58733664e+00,   1.59115074e+00,\n",
       "         1.59492266e+00,   1.59865201e+00,   1.60233839e+00,\n",
       "         1.60598141e+00,   1.60958069e+00,   1.61313583e+00,\n",
       "         1.61664646e+00,   1.62011220e+00,   1.62353266e+00,\n",
       "         1.62690747e+00,   1.63023625e+00,   1.63351865e+00,\n",
       "         1.63675428e+00,   1.63994279e+00,   1.64308380e+00,\n",
       "         1.64617697e+00,   1.64922194e+00,   1.65221834e+00,\n",
       "         1.65516584e+00,   1.65806408e+00,   1.66091272e+00,\n",
       "         1.66371142e+00,   1.66645984e+00,   1.66915765e+00,\n",
       "         1.67180450e+00,   1.67440008e+00,   1.67694407e+00,\n",
       "         1.67943613e+00,   1.68187595e+00,   1.68426322e+00,\n",
       "         1.68659762e+00,   1.68887886e+00,   1.69110661e+00,\n",
       "         1.69328060e+00,   1.69540051e+00,   1.69746606e+00,\n",
       "         1.69947695e+00,   1.70143291e+00,   1.70333366e+00,\n",
       "         1.70517891e+00,   1.70696839e+00,   1.70870184e+00,\n",
       "         1.71037899e+00,   1.71199959e+00,   1.71356336e+00,\n",
       "         1.71507007e+00,   1.71651947e+00,   1.71791130e+00,\n",
       "         1.71924534e+00,   1.72052135e+00,   1.72173910e+00,\n",
       "         1.72289836e+00,   1.72399891e+00,   1.72504054e+00,\n",
       "         1.72602303e+00,   1.72694617e+00,   1.72780977e+00,\n",
       "         1.72861363e+00,   1.72935754e+00,   1.73004133e+00,\n",
       "         1.73066481e+00,   1.73122780e+00,   1.73173013e+00,\n",
       "         1.73217163e+00,   1.73255213e+00,   1.73287147e+00,\n",
       "         1.73312950e+00,   1.73332608e+00,   1.73346105e+00,\n",
       "         1.73353428e+00,   1.73354563e+00,   1.73349498e+00,\n",
       "         1.73338219e+00,   1.73320717e+00,   1.73296978e+00,\n",
       "         1.73266992e+00,   1.73230749e+00,   1.73188239e+00,\n",
       "         1.73139453e+00,   1.73084382e+00,   1.73023019e+00,\n",
       "         1.72955354e+00,   1.72881383e+00,   1.72801097e+00,\n",
       "         1.72714491e+00,   1.72621559e+00,   1.72522297e+00,\n",
       "         1.72416700e+00,   1.72304765e+00,   1.72186488e+00,\n",
       "         1.72061867e+00,   1.71930899e+00,   1.71793583e+00,\n",
       "         1.71649918e+00,   1.71499903e+00,   1.71343539e+00,\n",
       "         1.71180827e+00,   1.71011766e+00,   1.70836361e+00,\n",
       "         1.70654612e+00,   1.70466522e+00,   1.70272096e+00,\n",
       "         1.70071337e+00,   1.69864251e+00,   1.69650841e+00,\n",
       "         1.69431114e+00,   1.69205077e+00,   1.68972736e+00,\n",
       "         1.68734099e+00,   1.68489174e+00,   1.68237970e+00,\n",
       "         1.67980495e+00,   1.67716760e+00,   1.67446775e+00,\n",
       "         1.67170551e+00,   1.66888100e+00,   1.66599433e+00,\n",
       "         1.66304563e+00,   1.66003504e+00,   1.65696269e+00,\n",
       "         1.65382873e+00,   1.65063330e+00,   1.64737657e+00,\n",
       "         1.64405869e+00,   1.64067982e+00,   1.63724015e+00,\n",
       "         1.63373985e+00,   1.63017909e+00,   1.62655808e+00,\n",
       "         1.62287701e+00,   1.61913607e+00,   1.61533547e+00,\n",
       "         1.61147542e+00,   1.60755615e+00,   1.60357787e+00,\n",
       "         1.59954080e+00,   1.59544520e+00,   1.59129128e+00,\n",
       "         1.58707930e+00,   1.58280951e+00,   1.57848217e+00,\n",
       "         1.57409752e+00,   1.56965585e+00,   1.56515742e+00,\n",
       "         1.56060250e+00,   1.55599138e+00,   1.55132435e+00,\n",
       "         1.54660170e+00,   1.54182373e+00,   1.53699074e+00,\n",
       "         1.53210304e+00,   1.52716093e+00,   1.52216475e+00,\n",
       "         1.51711481e+00,   1.51201145e+00,   1.50685499e+00,\n",
       "         1.50164577e+00,   1.49638414e+00,   1.49107045e+00,\n",
       "         1.48570505e+00,   1.48028829e+00,   1.47482054e+00,\n",
       "         1.46930218e+00,   1.46373356e+00,   1.45811507e+00,\n",
       "         1.45244708e+00,   1.44673000e+00,   1.44096420e+00,\n",
       "         1.43515008e+00,   1.42928804e+00,   1.42337849e+00,\n",
       "         1.41742183e+00,   1.41141848e+00,   1.40536886e+00,\n",
       "         1.39927338e+00,   1.39313247e+00,   1.38694657e+00,\n",
       "         1.38071611e+00,   1.37444152e+00,   1.36812324e+00,\n",
       "         1.36176173e+00,   1.35535744e+00,   1.34891081e+00,\n",
       "         1.34242231e+00,   1.33589240e+00,   1.32932154e+00,\n",
       "         1.32271021e+00,   1.31605887e+00,   1.30936800e+00,\n",
       "         1.30263809e+00,   1.29586961e+00,   1.28906305e+00,\n",
       "         1.28221890e+00,   1.27533766e+00,   1.26841982e+00,\n",
       "         1.26146589e+00,   1.25447636e+00,   1.24745174e+00,\n",
       "         1.24039254e+00,   1.23329927e+00,   1.22617245e+00,\n",
       "         1.21901260e+00,   1.21182023e+00,   1.20459587e+00,\n",
       "         1.19734004e+00,   1.19005328e+00,   1.18273612e+00,\n",
       "         1.17538908e+00,   1.16801271e+00,   1.16060754e+00,\n",
       "         1.15317411e+00,   1.14571297e+00,   1.13822466e+00,\n",
       "         1.13070973e+00,   1.12316872e+00,   1.11560220e+00,\n",
       "         1.10801070e+00,   1.10039479e+00,   1.09275503e+00,\n",
       "         1.08509197e+00,   1.07740616e+00,   1.06969819e+00,\n",
       "         1.06196859e+00,   1.05421795e+00,   1.04644683e+00,\n",
       "         1.03865578e+00,   1.03084540e+00,   1.02301623e+00,\n",
       "         1.01516885e+00,   1.00730384e+00,   9.99421770e-01,\n",
       "         9.91523208e-01,   9.83608731e-01,   9.75678915e-01,\n",
       "         9.67734337e-01,   9.59775571e-01,   9.51803197e-01,\n",
       "         9.43817790e-01,   9.35819931e-01,   9.27810196e-01,\n",
       "         9.19789166e-01,   9.11757418e-01,   9.03715533e-01,\n",
       "         8.95664089e-01,   8.87603666e-01,   8.79534844e-01,\n",
       "         8.71458200e-01,   8.63374315e-01,   8.55283767e-01,\n",
       "         8.47187134e-01,   8.39084994e-01,   8.30977926e-01,\n",
       "         8.22866506e-01,   8.14751310e-01,   8.06632915e-01,\n",
       "         7.98511895e-01,   7.90388825e-01,   7.82264278e-01,\n",
       "         7.74138826e-01,   7.66013042e-01,   7.57887496e-01,\n",
       "         7.49762757e-01,   7.41639392e-01,   7.33517970e-01,\n",
       "         7.25399056e-01,   7.17283213e-01,   7.09171004e-01,\n",
       "         7.01062992e-01,   6.92959734e-01,   6.84861790e-01,\n",
       "         6.76769716e-01,   6.68684065e-01,   6.60605391e-01,\n",
       "         6.52534245e-01,   6.44471175e-01,   6.36416727e-01,\n",
       "         6.28371447e-01,   6.20335878e-01,   6.12310558e-01,\n",
       "         6.04296027e-01,   5.96292820e-01,   5.88301470e-01,\n",
       "         5.80322509e-01,   5.72356464e-01,   5.64403861e-01,\n",
       "         5.56465224e-01,   5.48541072e-01,   5.40631924e-01,\n",
       "         5.32738294e-01,   5.24860695e-01,   5.16999635e-01,\n",
       "         5.09155620e-01,   5.01329154e-01,   4.93520737e-01,\n",
       "         4.85730866e-01,   4.77960033e-01,   4.70208731e-01,\n",
       "         4.62477445e-01,   4.54766661e-01,   4.47076857e-01,\n",
       "         4.39408511e-01,   4.31762097e-01,   4.24138084e-01,\n",
       "         4.16536940e-01,   4.08959125e-01,   4.01405101e-01,\n",
       "         3.93875321e-01,   3.86370237e-01,   3.78890297e-01,\n",
       "         3.71435945e-01,   3.64007620e-01,   3.56605759e-01,\n",
       "         3.49230792e-01,   3.41883149e-01,   3.34563253e-01,\n",
       "         3.27271523e-01,   3.20008375e-01,   3.12774220e-01,\n",
       "         3.05569465e-01,   2.98394513e-01,   2.91249761e-01,\n",
       "         2.84135605e-01,   2.77052433e-01,   2.70000631e-01,\n",
       "         2.62980579e-01,   2.55992654e-01,   2.49037228e-01,\n",
       "         2.42114666e-01,   2.35225332e-01,   2.28369584e-01,\n",
       "         2.21547775e-01,   2.14760253e-01,   2.08007362e-01,\n",
       "         2.01289441e-01,   1.94606824e-01,   1.87959841e-01,\n",
       "         1.81348817e-01,   1.74774070e-01,   1.68235917e-01,\n",
       "         1.61734666e-01,   1.55270624e-01,   1.48844089e-01,\n",
       "         1.42455358e-01,   1.36104721e-01,   1.29792462e-01,\n",
       "         1.23518862e-01,   1.17284196e-01,   1.11088735e-01,\n",
       "         1.04932742e-01,   9.88164779e-02,   9.27401978e-02,\n",
       "         8.67041512e-02,   8.07085826e-02,   7.47537314e-02,\n",
       "         6.88398321e-02,   6.29671135e-02,   5.71357999e-02,\n",
       "         5.13461098e-02,   4.55982569e-02,   3.98924496e-02,\n",
       "         3.42288911e-02,   2.86077794e-02,   2.30293073e-02,\n",
       "         1.74936624e-02,   1.20010269e-02,   6.55157816e-03,\n",
       "         1.14548796e-03,   0.00000000e+00,   0.00000000e+00,\n",
       "         0.00000000e+00,   0.00000000e+00,   0.00000000e+00,\n",
       "         0.00000000e+00,   0.00000000e+00,   0.00000000e+00,\n",
       "         0.00000000e+00,   0.00000000e+00,   0.00000000e+00,\n",
       "         0.00000000e+00,   0.00000000e+00,   0.00000000e+00,\n",
       "         0.00000000e+00,   0.00000000e+00,   0.00000000e+00,\n",
       "         0.00000000e+00,   0.00000000e+00,   0.00000000e+00,\n",
       "         0.00000000e+00,   0.00000000e+00,   0.00000000e+00,\n",
       "         0.00000000e+00,   0.00000000e+00,   0.00000000e+00,\n",
       "         0.00000000e+00,   0.00000000e+00,   0.00000000e+00,\n",
       "         0.00000000e+00,   0.00000000e+00,   0.00000000e+00,\n",
       "         0.00000000e+00,   0.00000000e+00,   0.00000000e+00,\n",
       "         0.00000000e+00,   0.00000000e+00,   0.00000000e+00,\n",
       "         0.00000000e+00,   0.00000000e+00,   0.00000000e+00,\n",
       "         0.00000000e+00,   0.00000000e+00,   0.00000000e+00,\n",
       "         0.00000000e+00,   0.00000000e+00,   0.00000000e+00,\n",
       "         0.00000000e+00,   0.00000000e+00,   0.00000000e+00,\n",
       "         0.00000000e+00,   0.00000000e+00,   0.00000000e+00,\n",
       "         0.00000000e+00,   0.00000000e+00,   0.00000000e+00,\n",
       "         0.00000000e+00,   0.00000000e+00,   0.00000000e+00,\n",
       "         0.00000000e+00,   0.00000000e+00,   0.00000000e+00,\n",
       "         0.00000000e+00,   0.00000000e+00,   0.00000000e+00,\n",
       "         0.00000000e+00,   0.00000000e+00,   0.00000000e+00,\n",
       "         0.00000000e+00,   0.00000000e+00,   0.00000000e+00,\n",
       "         0.00000000e+00,   0.00000000e+00,   0.00000000e+00,\n",
       "         0.00000000e+00,   0.00000000e+00,   0.00000000e+00,\n",
       "         0.00000000e+00,   0.00000000e+00,   0.00000000e+00,\n",
       "         0.00000000e+00,   0.00000000e+00,   0.00000000e+00,\n",
       "         0.00000000e+00,   0.00000000e+00,   0.00000000e+00,\n",
       "         0.00000000e+00,   0.00000000e+00,   0.00000000e+00,\n",
       "         0.00000000e+00,   0.00000000e+00,   0.00000000e+00,\n",
       "         0.00000000e+00,   0.00000000e+00,   0.00000000e+00,\n",
       "         0.00000000e+00,   0.00000000e+00])"
      ]
     },
     "execution_count": 8,
     "metadata": {},
     "output_type": "execute_result"
    }
   ],
   "source": [
    "# 密度比の推定\n",
    "kdr =kernelDensityRatio(gamma=optgamma, lam=optlam)\n",
    "kdr.fit(de,nu)\n",
    "kdr.predict(newdat)"
   ]
  },
  {
   "cell_type": "markdown",
   "metadata": {},
   "source": [
    "# 共変量シフトの下での回帰分析"
   ]
  },
  {
   "cell_type": "code",
   "execution_count": 9,
   "metadata": {
    "collapsed": true
   },
   "outputs": [],
   "source": [
    "# 真の回帰関数 \n",
    "def f(x):            \n",
    "    return (x+2)*(x-3)*x\n",
    "# データ設定\n",
    "ntr, mtr, sdtr   = 100, -1.4, 0.7\n",
    "nte, mte, sdte = 100,  0.8, 0.8\n",
    "# トレーニングデータ生成\n",
    "xtr = np.random.normal(loc=mtr, scale=sdtr, size=ntr).reshape(ntr,1)\n",
    "ytr = f(xtr) + np.random.normal(scale=2, size=ntr).reshape(ntr,1)\n",
    "# テストデータ生成\n",
    "xte = np.random.normal(loc=mte, scale=sdte, size=nte).reshape(nte,1)\n",
    "yte = f(xte) + np.random.normal(scale=2, size=nte).reshape(nte,1) "
   ]
  },
  {
   "cell_type": "code",
   "execution_count": 10,
   "metadata": {},
   "outputs": [
    {
     "data": {
      "text/plain": [
       "array([[-0.91734913],\n",
       "       [-3.14963706]])"
      ]
     },
     "execution_count": 10,
     "metadata": {},
     "output_type": "execute_result"
    }
   ],
   "source": [
    "# トレーニングデータ点上での密度比を推定\n",
    "kdr = kernelDensityRatio()\n",
    "kdr.fit(xtr,xte)\n",
    "pw = kdr.predict(xtr)\n",
    "# 重み付き最小二乗法で回帰パラメータを推定\n",
    "W = np.sqrt(np.diag(pw))\n",
    "X =  sm.add_constant(xtr)\n",
    "WX = np.dot(W,X); WY = np.dot(W, ytr)\n",
    "estTheta = np.linalg.solve(np.dot(WX.T,WX), np.dot(WX.T,WY))\n",
    "estTheta"
   ]
  },
  {
   "cell_type": "markdown",
   "metadata": {},
   "source": [
    "# 二標本検定"
   ]
  },
  {
   "cell_type": "code",
   "execution_count": 11,
   "metadata": {
    "collapsed": true
   },
   "outputs": [],
   "source": [
    "from sklearn.preprocessing import scale\n",
    "from sklearn import datasets\n",
    "d = datasets.load_breast_cancer()        # データ読込み\n",
    "de = d.data[d.target==0]; de = scale(de) # スケーリング\n",
    "nu = d.data[d.target==1]; nu = scale(nu) # スケーリング"
   ]
  },
  {
   "cell_type": "code",
   "execution_count": 12,
   "metadata": {},
   "outputs": [
    {
     "data": {
      "text/plain": [
       "0.025499999999999998"
      ]
     },
     "execution_count": 12,
     "metadata": {},
     "output_type": "execute_result"
    }
   ],
   "source": [
    "kdr =kernelDensityRatio() \n",
    "kdr.fit(de,nu)                               # 密度比の推定\n",
    "L1distEst = np.mean(abs(1-kdr.predict(de)))  # L1距離の推定値\n",
    "nperm = 10000                                # 並べ替え検定の繰り返し数\n",
    "nde, nnu = de.shape[0], nu.shape[0]\n",
    "dall = np.r_[de,nu]\n",
    "permL1dist = []\n",
    "for itr in np.arange(nperm):         \n",
    "    idx = np.random.choice(nde+nnu,nde,replace=False)   # データの並べ替え\n",
    "    perm_de = dall[idx,:]\n",
    "    perm_nu = np.delete(dall,idx,0)\n",
    "    pdr =kernelDensityRatio()\n",
    "    pdr.fit(perm_de, perm_nu)            # 並べ替えデータに対する密度比の推定\n",
    "    permL1dist.append(np.mean(abs(1-pdr.predict(perm_de)))) # L1距離の推定\n",
    "np.mean(L1distEst < np.array(permL1dist))          # 並べ替え検定による p値"
   ]
  },
  {
   "cell_type": "code",
   "execution_count": null,
   "metadata": {
    "collapsed": true
   },
   "outputs": [],
   "source": []
  }
 ],
 "metadata": {
  "kernelspec": {
   "display_name": "Python 3",
   "language": "python",
   "name": "python3"
  },
  "language_info": {
   "codemirror_mode": {
    "name": "ipython",
    "version": 3
   },
   "file_extension": ".py",
   "mimetype": "text/x-python",
   "name": "python",
   "nbconvert_exporter": "python",
   "pygments_lexer": "ipython3",
   "version": "3.6.3"
  }
 },
 "nbformat": 4,
 "nbformat_minor": 2
}
