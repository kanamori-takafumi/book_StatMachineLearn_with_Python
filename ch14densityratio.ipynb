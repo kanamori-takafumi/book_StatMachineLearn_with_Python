{
 "cells": [
  {
   "cell_type": "code",
   "execution_count": 1,
   "metadata": {
    "collapsed": true
   },
   "outputs": [],
   "source": [
    "import numpy as np               \n",
    "import matplotlib.pyplot as plt \n",
    "import statsmodels.api as sm\n",
    "from scipy.stats import norm"
   ]
  },
  {
   "cell_type": "markdown",
   "metadata": {},
   "source": [
    "# 密度比の推定"
   ]
  },
  {
   "cell_type": "code",
   "execution_count": 2,
   "metadata": {
    "collapsed": true
   },
   "outputs": [],
   "source": [
    "# データ設定 \n",
    "n = 100; m = 200\n",
    "nu_mean, nu_sd = -0.5, 1\n",
    "a_mean,  a_sd = 1, 0.8\n",
    "newdat = np.linspace(-4,4,500).reshape(500,1)  # 予測点\n",
    "tnu =  norm.pdf(newdat, nu_mean, nu_sd)        # 確率密度の計算\n",
    "tde = (norm.pdf(newdat, a_mean, a_sd)+tnu)/2\n",
    "tw = tnu/tde                                   # 予測点上での真の密度比"
   ]
  },
  {
   "cell_type": "code",
   "execution_count": 3,
   "metadata": {
    "collapsed": true
   },
   "outputs": [],
   "source": [
    "# データ生成\n",
    "nu = np.random.normal(loc=nu_mean, scale=nu_sd, size=n).reshape(n,1)\n",
    "ma = np.random.binomial(m,0.5); mb = m-ma\n",
    "de = np.r_[np.random.normal(loc=nu_mean,scale=nu_sd,size=ma).reshape(ma,1), np.random.normal(loc=a_mean, scale=a_sd, size=mb).reshape(mb,1)]"
   ]
  },
  {
   "cell_type": "code",
   "execution_count": 4,
   "metadata": {},
   "outputs": [
    {
     "data": {
      "image/png": "[encoded data removed]",
      "text/plain": [
       "<matplotlib.figure.Figure at 0x114430be0>"
      ]
     },
     "metadata": {},
     "output_type": "display_data"
    }
   ],
   "source": [
    "from common.DensityRatio import kernelDensityRatio\n",
    "plt.plot(newdat,tw,lw=2)            # 真の密度比関数のプロット\n",
    "# データ点のプロット\n",
    "plt.scatter(nu.reshape(n,),np.repeat(0.3,n),marker='.',c='black',s=20)\n",
    "plt.scatter(de.reshape(m,),np.repeat(0.1,m),marker='x',c='gray',s=20)\n",
    "# 以下のカーネル幅で推定\n",
    "gammas = np.array([0.01, 0.1, 1])\n",
    "for g in gammas:\n",
    "    dr = kernelDensityRatio(gamma=g)\n",
    "    dr.fit(de,nu)                   # データへのフィッティング\n",
    "    drp = dr.predict(newdat)        # 密度比の予測値\n",
    "    plt.plot(newdat,drp, c='red',linestyle='dashed',lw=2)  # プロット\n",
    "plt.show()   "
   ]
  },
  {
   "cell_type": "markdown",
   "metadata": {},
   "source": [
    "# 密度比推定のための交差検証法"
   ]
  },
  {
   "cell_type": "code",
   "execution_count": 5,
   "metadata": {
    "collapsed": true
   },
   "outputs": [],
   "source": [
    "from scipy.spatial import distance           # distanceの計算\n",
    "cvk = 5                                     # 交差検証法のK\n",
    "n = nu.shape[0]; m = de.shape[0]            # データ数\n",
    "# カーネル幅パラメータの候補を生成\n",
    "idx = np.random.choice(n+m,round((n+m)/2))\n",
    "gammas = 1/np.percentile(distance.pdist(np.r_[nu,de][idx,:]),[1,99])**2\n",
    "gammas = np.logspace(np.log10(gammas.min()/100), np.log10(gammas.max()*100),10)\n",
    "# 正則化パラメータ lambda の候補を生成 \n",
    "lams = np.array([(min(n,m))**(-0.9)])\n",
    "# モデルパラメータの候補\n",
    "modelpars = np.array([(x,y) for x in gammas for y in lams])  "
   ]
  },
  {
   "cell_type": "code",
   "execution_count": 6,
   "metadata": {},
   "outputs": [
    {
     "data": {
      "text/plain": [
       "(0.60150430668164145, 0.015848931924611134)"
      ]
     },
     "execution_count": 6,
     "metadata": {},
     "output_type": "execute_result"
    }
   ],
   "source": [
    "from common.DensityRatio import kernelDensityRatio\n",
    "# それぞれのデータを5グループに分ける\n",
    "inu = np.repeat(np.arange(cvk),np.ceil(n/cvk))\n",
    "inu = inu[np.random.choice(n,n,replace=False)]\n",
    "ide = np.repeat(np.arange(cvk),np.ceil(m/cvk))\n",
    "ide = ide[np.random.choice(m,m,replace=False)]\n",
    "cvloss = []\n",
    "for gamma, lam in modelpars:\n",
    "    tcvloss = []\n",
    "    for k in np.arange(cvk):\n",
    "        # トレーニングデータ\n",
    "        trnu = nu[inu!=k,:]; trde = de[ide!=k,:]\n",
    "        # テストデータ\n",
    "        tenu = nu[inu==k,:]; tede = de[ide==k,:]\n",
    "        # 指定されたモデルパラメータで密度比を推定\n",
    "        kdr =kernelDensityRatio(gamma=gamma, lam=lam)\n",
    "        kdr.fit(trde, trnu)                             # 推定\n",
    "        wde = kdr.predict(tede)                         # de上で予測\n",
    "        wnu = kdr.predict(tenu)                         # nu上で予測\n",
    "        tcvloss.append(np.mean(wde**2)/2-np.mean(wnu))  # 二乗損失\n",
    "    cvloss.append(np.mean(tcvloss))\n",
    "# 最適なモデルパラメータ\n",
    "optgamma,optlam = modelpars[np.argmin(cvloss),:]\n",
    "optgamma,optlam"
   ]
  },
  {
   "cell_type": "code",
   "execution_count": 7,
   "metadata": {},
   "outputs": [
    {
     "data": {
      "image/png": "[encoded data removed]",
      "text/plain": [
       "<matplotlib.figure.Figure at 0x10d495128>"
      ]
     },
     "metadata": {},
     "output_type": "display_data"
    }
   ],
   "source": [
    "plt.xscale('log'); plt.xlabel('gamma'); plt.ylabel('cv loss')\n",
    "plt.scatter(gammas, cvloss)\n",
    "plt.show()"
   ]
  },
  {
   "cell_type": "code",
   "execution_count": 8,
   "metadata": {},
   "outputs": [
    {
     "data": {
      "text/plain": [
       "array([  0.00000000e+00,   0.00000000e+00,   0.00000000e+00,\n",
       "         0.00000000e+00,   0.00000000e+00,   0.00000000e+00,\n",
       "         0.00000000e+00,   0.00000000e+00,   0.00000000e+00,\n",
       "         0.00000000e+00,   0.00000000e+00,   0.00000000e+00,\n",
       "         0.00000000e+00,   0.00000000e+00,   0.00000000e+00,\n",
       "         0.00000000e+00,   0.00000000e+00,   0.00000000e+00,\n",
       "         0.00000000e+00,   0.00000000e+00,   0.00000000e+00,\n",
       "         0.00000000e+00,   0.00000000e+00,   0.00000000e+00,\n",
       "         0.00000000e+00,   0.00000000e+00,   1.60552330e-03,\n",
       "         3.93485314e-03,   6.38013734e-03,   8.94409023e-03,\n",
       "         1.16294212e-02,   1.44388328e-02,   1.73750188e-02,\n",
       "         2.04406625e-02,   2.36384347e-02,   2.69709921e-02,\n",
       "         3.04409751e-02,   3.40510067e-02,   3.78036900e-02,\n",
       "         4.17016072e-02,   4.57473174e-02,   4.99433551e-02,\n",
       "         5.42922289e-02,   5.87964193e-02,   6.34583779e-02,\n",
       "         6.82805253e-02,   7.32652500e-02,   7.84149067e-02,\n",
       "         8.37318152e-02,   8.92182587e-02,   9.48764828e-02,\n",
       "         1.00708694e-01,   1.06717059e-01,   1.12903701e-01,\n",
       "         1.19270703e-01,   1.25820102e-01,   1.32553892e-01,\n",
       "         1.39474017e-01,   1.46582378e-01,   1.53880823e-01,\n",
       "         1.61371153e-01,   1.69055117e-01,   1.76934412e-01,\n",
       "         1.85010680e-01,   1.93285512e-01,   2.01760438e-01,\n",
       "         2.10436935e-01,   2.19316420e-01,   2.28400249e-01,\n",
       "         2.37689718e-01,   2.47186060e-01,   2.56890443e-01,\n",
       "         2.66803968e-01,   2.76927671e-01,   2.87262515e-01,\n",
       "         2.97809394e-01,   3.08569128e-01,   3.19542460e-01,\n",
       "         3.30730056e-01,   3.42132503e-01,   3.53750304e-01,\n",
       "         3.65583877e-01,   3.77633551e-01,   3.89899568e-01,\n",
       "         4.02382072e-01,   4.15081112e-01,   4.27996637e-01,\n",
       "         4.41128493e-01,   4.54476417e-01,   4.68040039e-01,\n",
       "         4.81818870e-01,   4.95812306e-01,   5.10019618e-01,\n",
       "         5.24439953e-01,   5.39072324e-01,   5.53915610e-01,\n",
       "         5.68968548e-01,   5.84229733e-01,   5.99697608e-01,\n",
       "         6.15370461e-01,   6.31246422e-01,   6.47323454e-01,\n",
       "         6.63599351e-01,   6.80071732e-01,   6.96738036e-01,\n",
       "         7.13595515e-01,   7.30641230e-01,   7.47872046e-01,\n",
       "         7.65284626e-01,   7.82875428e-01,   8.00640695e-01,\n",
       "         8.18576455e-01,   8.36678513e-01,   8.54942447e-01,\n",
       "         8.73363603e-01,   8.91937091e-01,   9.10657781e-01,\n",
       "         9.29520295e-01,   9.48519010e-01,   9.67648046e-01,\n",
       "         9.86901272e-01,   1.00627229e+00,   1.02575445e+00,\n",
       "         1.04534083e+00,   1.06502425e+00,   1.08479723e+00,\n",
       "         1.10465207e+00,   1.12458077e+00,   1.14457505e+00,\n",
       "         1.16462638e+00,   1.18472595e+00,   1.20486467e+00,\n",
       "         1.22503321e+00,   1.24522194e+00,   1.26542100e+00,\n",
       "         1.28562023e+00,   1.30580927e+00,   1.32597745e+00,\n",
       "         1.34611388e+00,   1.36620745e+00,   1.38624678e+00,\n",
       "         1.40622028e+00,   1.42611614e+00,   1.44592234e+00,\n",
       "         1.46562666e+00,   1.48521669e+00,   1.50467982e+00,\n",
       "         1.52400330e+00,   1.54317420e+00,   1.56217946e+00,\n",
       "         1.58100586e+00,   1.59964010e+00,   1.61806874e+00,\n",
       "         1.63627827e+00,   1.65425511e+00,   1.67198561e+00,\n",
       "         1.68945608e+00,   1.70665281e+00,   1.72356209e+00,\n",
       "         1.74017021e+00,   1.75646349e+00,   1.77242832e+00,\n",
       "         1.78805114e+00,   1.80331847e+00,   1.81821698e+00,\n",
       "         1.83273341e+00,   1.84685471e+00,   1.86056795e+00,\n",
       "         1.87386043e+00,   1.88671964e+00,   1.89913330e+00,\n",
       "         1.91108940e+00,   1.92257619e+00,   1.93358223e+00,\n",
       "         1.94409639e+00,   1.95410788e+00,   1.96360625e+00,\n",
       "         1.97258145e+00,   1.98102382e+00,   1.98892411e+00,\n",
       "         1.99627350e+00,   2.00306364e+00,   2.00928664e+00,\n",
       "         2.01493510e+00,   2.02000212e+00,   2.02448133e+00,\n",
       "         2.02836688e+00,   2.03165348e+00,   2.03433640e+00,\n",
       "         2.03641149e+00,   2.03787518e+00,   2.03872450e+00,\n",
       "         2.03895710e+00,   2.03857123e+00,   2.03756577e+00,\n",
       "         2.03594023e+00,   2.03369476e+00,   2.03083015e+00,\n",
       "         2.02734785e+00,   2.02324992e+00,   2.01853910e+00,\n",
       "         2.01321878e+00,   2.00729297e+00,   2.00076635e+00,\n",
       "         1.99364423e+00,   1.98593256e+00,   1.97763791e+00,\n",
       "         1.96876749e+00,   1.95932910e+00,   1.94933117e+00,\n",
       "         1.93878272e+00,   1.92769332e+00,   1.91607316e+00,\n",
       "         1.90393294e+00,   1.89128393e+00,   1.87813790e+00,\n",
       "         1.86450715e+00,   1.85040445e+00,   1.83584304e+00,\n",
       "         1.82083661e+00,   1.80539930e+00,   1.78954561e+00,\n",
       "         1.77329047e+00,   1.75664914e+00,   1.73963723e+00,\n",
       "         1.72227065e+00,   1.70456562e+00,   1.68653859e+00,\n",
       "         1.66820627e+00,   1.64958557e+00,   1.63069358e+00,\n",
       "         1.61154755e+00,   1.59216484e+00,   1.57256294e+00,\n",
       "         1.55275938e+00,   1.53277177e+00,   1.51261770e+00,\n",
       "         1.49231478e+00,   1.47188057e+00,   1.45133256e+00,\n",
       "         1.43068815e+00,   1.40996465e+00,   1.38917918e+00,\n",
       "         1.36834872e+00,   1.34749005e+00,   1.32661972e+00,\n",
       "         1.30575405e+00,   1.28490909e+00,   1.26410059e+00,\n",
       "         1.24334400e+00,   1.22265442e+00,   1.20204662e+00,\n",
       "         1.18153498e+00,   1.16113348e+00,   1.14085571e+00,\n",
       "         1.12071483e+00,   1.10072354e+00,   1.08089411e+00,\n",
       "         1.06123831e+00,   1.04176745e+00,   1.02249233e+00,\n",
       "         1.00342326e+00,   9.84570020e-01,   9.65941876e-01,\n",
       "         9.47547562e-01,   9.29395275e-01,   9.11492672e-01,\n",
       "         8.93846868e-01,   8.76464430e-01,   8.59351375e-01,\n",
       "         8.42513176e-01,   8.25954755e-01,   8.09680491e-01,\n",
       "         7.93694220e-01,   7.77999239e-01,   7.62598313e-01,\n",
       "         7.47493679e-01,   7.32687056e-01,   7.18179648e-01,\n",
       "         7.03972160e-01,   6.90064802e-01,   6.76457302e-01,\n",
       "         6.63148918e-01,   6.50138448e-01,   6.37424247e-01,\n",
       "         6.25004237e-01,   6.12875924e-01,   6.01036411e-01,\n",
       "         5.89482416e-01,   5.78210285e-01,   5.67216012e-01,\n",
       "         5.56495254e-01,   5.46043348e-01,   5.35855332e-01,\n",
       "         5.25925958e-01,   5.16249716e-01,   5.06820848e-01,\n",
       "         4.97633368e-01,   4.88681084e-01,   4.79957612e-01,\n",
       "         4.71456397e-01,   4.63170734e-01,   4.55093784e-01,\n",
       "         4.47218593e-01,   4.39538112e-01,   4.32045214e-01,\n",
       "         4.24732715e-01,   4.17593386e-01,   4.10619978e-01,\n",
       "         4.03805234e-01,   3.97141907e-01,   3.90622779e-01,\n",
       "         3.84240672e-01,   3.77988469e-01,   3.71859126e-01,\n",
       "         3.65845688e-01,   3.59941301e-01,   3.54139226e-01,\n",
       "         3.48432856e-01,   3.42815723e-01,   3.37281509e-01,\n",
       "         3.31824064e-01,   3.26437409e-01,   3.21115749e-01,\n",
       "         3.15853482e-01,   3.10645207e-01,   3.05485732e-01,\n",
       "         3.00370078e-01,   2.95293491e-01,   2.90251442e-01,\n",
       "         2.85239636e-01,   2.80254014e-01,   2.75290755e-01,\n",
       "         2.70346283e-01,   2.65417267e-01,   2.60500621e-01,\n",
       "         2.55593507e-01,   2.50693334e-01,   2.45797760e-01,\n",
       "         2.40904688e-01,   2.36012263e-01,   2.31118877e-01,\n",
       "         2.26223158e-01,   2.21323972e-01,   2.16420416e-01,\n",
       "         2.11511818e-01,   2.06597727e-01,   2.01677910e-01,\n",
       "         1.96752350e-01,   1.91821231e-01,   1.86884943e-01,\n",
       "         1.81944066e-01,   1.76999365e-01,   1.72051788e-01,\n",
       "         1.67102451e-01,   1.62152634e-01,   1.57203771e-01,\n",
       "         1.52257445e-01,   1.47315373e-01,   1.42379407e-01,\n",
       "         1.37451513e-01,   1.32533774e-01,   1.27628373e-01,\n",
       "         1.22737586e-01,   1.17863774e-01,   1.13009374e-01,\n",
       "         1.08176889e-01,   1.03368878e-01,   9.85879489e-02,\n",
       "         9.38367499e-02,   8.91179588e-02,   8.44342755e-02,\n",
       "         7.97884136e-02,   7.51830916e-02,   7.06210253e-02,\n",
       "         6.61049192e-02,   6.16374594e-02,   5.72213057e-02,\n",
       "         5.28590844e-02,   4.85533816e-02,   4.43067357e-02,\n",
       "         4.01216319e-02,   3.60004953e-02,   3.19456852e-02,\n",
       "         2.79594898e-02,   2.40441205e-02,   2.02017072e-02,\n",
       "         1.64342937e-02,   1.27438331e-02,   9.13218419e-03,\n",
       "         5.60110759e-03,   2.15226241e-03,   0.00000000e+00,\n",
       "         0.00000000e+00,   0.00000000e+00,   0.00000000e+00,\n",
       "         0.00000000e+00,   0.00000000e+00,   0.00000000e+00,\n",
       "         0.00000000e+00,   0.00000000e+00,   0.00000000e+00,\n",
       "         0.00000000e+00,   0.00000000e+00,   0.00000000e+00,\n",
       "         0.00000000e+00,   0.00000000e+00,   0.00000000e+00,\n",
       "         0.00000000e+00,   0.00000000e+00,   0.00000000e+00,\n",
       "         0.00000000e+00,   0.00000000e+00,   0.00000000e+00,\n",
       "         0.00000000e+00,   0.00000000e+00,   0.00000000e+00,\n",
       "         0.00000000e+00,   0.00000000e+00,   0.00000000e+00,\n",
       "         0.00000000e+00,   0.00000000e+00,   0.00000000e+00,\n",
       "         0.00000000e+00,   0.00000000e+00,   0.00000000e+00,\n",
       "         0.00000000e+00,   0.00000000e+00,   0.00000000e+00,\n",
       "         0.00000000e+00,   0.00000000e+00,   0.00000000e+00,\n",
       "         0.00000000e+00,   0.00000000e+00,   0.00000000e+00,\n",
       "         0.00000000e+00,   0.00000000e+00,   0.00000000e+00,\n",
       "         0.00000000e+00,   0.00000000e+00,   0.00000000e+00,\n",
       "         0.00000000e+00,   0.00000000e+00,   0.00000000e+00,\n",
       "         0.00000000e+00,   0.00000000e+00,   0.00000000e+00,\n",
       "         0.00000000e+00,   0.00000000e+00,   0.00000000e+00,\n",
       "         0.00000000e+00,   0.00000000e+00,   0.00000000e+00,\n",
       "         0.00000000e+00,   0.00000000e+00,   0.00000000e+00,\n",
       "         0.00000000e+00,   0.00000000e+00,   0.00000000e+00,\n",
       "         0.00000000e+00,   0.00000000e+00,   0.00000000e+00,\n",
       "         0.00000000e+00,   0.00000000e+00,   0.00000000e+00,\n",
       "         0.00000000e+00,   0.00000000e+00,   0.00000000e+00,\n",
       "         0.00000000e+00,   0.00000000e+00,   0.00000000e+00,\n",
       "         0.00000000e+00,   0.00000000e+00,   0.00000000e+00,\n",
       "         0.00000000e+00,   0.00000000e+00,   0.00000000e+00,\n",
       "         0.00000000e+00,   0.00000000e+00,   0.00000000e+00,\n",
       "         0.00000000e+00,   0.00000000e+00,   0.00000000e+00,\n",
       "         0.00000000e+00,   0.00000000e+00,   0.00000000e+00,\n",
       "         0.00000000e+00,   0.00000000e+00,   0.00000000e+00,\n",
       "         0.00000000e+00,   0.00000000e+00,   0.00000000e+00,\n",
       "         0.00000000e+00,   0.00000000e+00,   0.00000000e+00,\n",
       "         0.00000000e+00,   0.00000000e+00,   0.00000000e+00,\n",
       "         0.00000000e+00,   0.00000000e+00])"
      ]
     },
     "execution_count": 8,
     "metadata": {},
     "output_type": "execute_result"
    }
   ],
   "source": [
    "# 密度比の推定\n",
    "kdr =kernelDensityRatio(gamma=optgamma, lam=optlam)\n",
    "kdr.fit(de,nu)\n",
    "kdr.predict(newdat)"
   ]
  },
  {
   "cell_type": "markdown",
   "metadata": {},
   "source": [
    "# 共変量シフトの下での回帰分析"
   ]
  },
  {
   "cell_type": "code",
   "execution_count": 9,
   "metadata": {
    "collapsed": true
   },
   "outputs": [],
   "source": [
    "# 真の回帰関数 \n",
    "def f(x):            \n",
    "    return (x+2)*(x-3)*x\n",
    "# データ設定\n",
    "ntr = 100; mtr = -1.4; sdtr = 0.7\n",
    "nte = 100; mte =  0.8; sdte = 0.8\n",
    "# トレーニングデータ生成\n",
    "xtr = np.random.normal(loc=mtr, scale=sdtr, size=ntr).reshape(ntr,1)\n",
    "ytr = f(xtr) + np.random.normal(scale=2, size=ntr).reshape(ntr,1)\n",
    "# テストデータ生成\n",
    "xte = np.random.normal(loc=mte, scale=sdte, size=nte).reshape(nte,1)\n",
    "yte = f(xte) + np.random.normal(scale=2, size=nte).reshape(nte,1) "
   ]
  },
  {
   "cell_type": "code",
   "execution_count": 10,
   "metadata": {},
   "outputs": [
    {
     "data": {
      "text/plain": [
       "array([[ 2.19020018],\n",
       "       [ 1.37701386]])"
      ]
     },
     "execution_count": 10,
     "metadata": {},
     "output_type": "execute_result"
    }
   ],
   "source": [
    "# トレーニングデータ点上での密度比を推定\n",
    "kdr = kernelDensityRatio()\n",
    "kdr.fit(xtr,xte)\n",
    "pw = kdr.predict(xtr)\n",
    "# 重み付き最小二乗法で回帰パラメータを推定\n",
    "W = np.sqrt(np.diag(pw))\n",
    "X =  sm.add_constant(xtr)\n",
    "WX = np.dot(W,X); WY = np.dot(W, ytr)\n",
    "estTheta = np.linalg.solve(np.dot(WX.T,WX), np.dot(WX.T,WY))\n",
    "estTheta"
   ]
  },
  {
   "cell_type": "markdown",
   "metadata": {},
   "source": [
    "# 二標本検定"
   ]
  },
  {
   "cell_type": "code",
   "execution_count": 11,
   "metadata": {
    "collapsed": true
   },
   "outputs": [],
   "source": [
    "from sklearn.preprocessing import scale\n",
    "from sklearn import datasets\n",
    "d = datasets.load_breast_cancer()        # データ読込み\n",
    "de = d.data[d.target==0]; de = scale(de) # スケーリング\n",
    "nu = d.data[d.target==1]; nu = scale(nu) # スケーリング"
   ]
  },
  {
   "cell_type": "code",
   "execution_count": 12,
   "metadata": {},
   "outputs": [
    {
     "data": {
      "text/plain": [
       "0.035900000000000001"
      ]
     },
     "execution_count": 12,
     "metadata": {},
     "output_type": "execute_result"
    }
   ],
   "source": [
    "kdr =kernelDensityRatio() \n",
    "kdr.fit(de,nu)                               # 密度比の推定\n",
    "L1distEst = np.mean(abs(1-kdr.predict(de)))  # L1距離の推定値\n",
    "nperm = 10000                                # 並べ替え検定の繰り返し数\n",
    "nde = de.shape[0]; nnu = nu.shape[0]\n",
    "dall = np.r_[de,nu]\n",
    "permL1dist = []\n",
    "for itr in np.arange(nperm):         \n",
    "    idx = np.random.choice(nde+nnu,nde,replace=False)   # データの並べ替え\n",
    "    perm_de = dall[idx,:]\n",
    "    perm_nu = np.delete(dall,idx,0)\n",
    "    pdr =kernelDensityRatio()\n",
    "    pdr.fit(perm_de, perm_nu)            # 並べ替えデータに対する密度比の推定\n",
    "    permL1dist.append(np.mean(abs(1-pdr.predict(perm_de)))) # L1距離の推定\n",
    "np.mean(L1distEst < np.array(permL1dist))          # 並べ替え検定による p値"
   ]
  },
  {
   "cell_type": "code",
   "execution_count": null,
   "metadata": {
    "collapsed": true
   },
   "outputs": [],
   "source": []
  }
 ],
 "metadata": {
  "kernelspec": {
   "display_name": "Python 3",
   "language": "python",
   "name": "python3"
  },
  "language_info": {
   "codemirror_mode": {
    "name": "ipython",
    "version": 3
   },
   "file_extension": ".py",
   "mimetype": "text/x-python",
   "name": "python",
   "nbconvert_exporter": "python",
   "pygments_lexer": "ipython3",
   "version": "3.6.3"
  }
 },
 "nbformat": 4,
 "nbformat_minor": 2
}
