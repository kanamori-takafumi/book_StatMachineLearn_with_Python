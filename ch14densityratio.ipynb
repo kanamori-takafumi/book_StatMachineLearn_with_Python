{
 "cells": [
  {
   "cell_type": "code",
   "execution_count": 1,
   "metadata": {},
   "outputs": [],
   "source": [
    "import numpy as np               \n",
    "import matplotlib.pyplot as plt \n",
    "import statsmodels.api as sm\n",
    "from scipy.stats import norm"
   ]
  },
  {
   "cell_type": "markdown",
   "metadata": {},
   "source": [
    "# 密度比の推定"
   ]
  },
  {
   "cell_type": "code",
   "execution_count": 2,
   "metadata": {},
   "outputs": [],
   "source": [
    "# データ設定 \n",
    "n = 100; m = 200\n",
    "nu_mean, nu_sd = -0.5, 1\n",
    "a_mean,  a_sd = 1, 0.8\n",
    "newdat = np.linspace(-4,4,500).reshape(500,1)  # 予測点\n",
    "tnu =  norm.pdf(newdat, nu_mean, nu_sd)        # 確率密度の計算\n",
    "tde = (norm.pdf(newdat, a_mean, a_sd)+tnu)/2\n",
    "tw = tnu/tde                                   # 予測点上での真の密度比"
   ]
  },
  {
   "cell_type": "code",
   "execution_count": 3,
   "metadata": {},
   "outputs": [],
   "source": [
    "# データ生成\n",
    "nu = np.random.normal(loc=nu_mean, scale=nu_sd, size=n).reshape(n,1)\n",
    "ma = np.random.binomial(m,0.5); mb = m-ma\n",
    "de = np.r_[np.random.normal(loc=nu_mean,scale=nu_sd,size=ma).reshape(ma,1), np.random.normal(loc=a_mean, scale=a_sd, size=mb).reshape(mb,1)]"
   ]
  },
  {
   "cell_type": "code",
   "execution_count": 4,
   "metadata": {},
   "outputs": [
    {
     "data": {
      "image/png": "[encoded data removed]",
      "text/plain": [
       "<matplotlib.figure.Figure at 0x10a8c17b8>"
      ]
     },
     "metadata": {},
     "output_type": "display_data"
    }
   ],
   "source": [
    "from common.DensityRatio import kernelDensityRatio\n",
    "plt.plot(newdat,tw,lw=2)            # 真の密度比関数のプロット\n",
    "# データ点のプロット\n",
    "plt.scatter(nu.reshape(n,),np.repeat(0.3,n),marker='.',c='black',s=20)\n",
    "plt.scatter(de.reshape(m,),np.repeat(0.1,m),marker='x',c='gray',s=20)\n",
    "# 以下のカーネル幅で推定\n",
    "gammas = np.array([0.01, 0.1, 1])\n",
    "for g in gammas:\n",
    "    dr = kernelDensityRatio(gamma=g)\n",
    "    dr.fit(de,nu)                   # データへのフィッティング\n",
    "    drp = dr.predict(newdat)        # 密度比の予測値\n",
    "    plt.plot(newdat,drp, c='red',linestyle='dashed',lw=2)  # プロット\n",
    "plt.show()   "
   ]
  },
  {
   "cell_type": "markdown",
   "metadata": {},
   "source": [
    "# 密度比推定のための交差検証法"
   ]
  },
  {
   "cell_type": "code",
   "execution_count": 5,
   "metadata": {},
   "outputs": [],
   "source": [
    "from scipy.spatial import distance           # distanceの計算\n",
    "cvk = 5                                     # 交差検証法のK\n",
    "n = nu.shape[0]; m = de.shape[0]            # データ数\n",
    "# カーネル幅パラメータの候補を生成\n",
    "idx = np.random.choice(n+m,round((n+m)/2))\n",
    "gammas = 1/np.percentile(distance.pdist(np.r_[nu,de][idx,:]),[1,99])**2\n",
    "gammas = np.logspace(np.log10(gammas.min()/100), np.log10(gammas.max()*100),10)\n",
    "# 正則化パラメータ lambda の候補を生成 \n",
    "lams = np.array([(min(n,m))**(-0.9)])\n",
    "# モデルパラメータの候補\n",
    "modelpars = np.array([(x,y) for x in gammas for y in lams])  "
   ]
  },
  {
   "cell_type": "code",
   "execution_count": 6,
   "metadata": {},
   "outputs": [
    {
     "data": {
      "text/plain": [
       "(0.047667166831236861, 0.015848931924611134)"
      ]
     },
     "execution_count": 6,
     "metadata": {},
     "output_type": "execute_result"
    }
   ],
   "source": [
    "from common.DensityRatio import kernelDensityRatio\n",
    "# それぞれのデータを5グループに分ける\n",
    "inu = np.repeat(np.arange(cvk),np.ceil(n/cvk))\n",
    "inu = inu[np.random.choice(n,n,replace=False)]\n",
    "ide = np.repeat(np.arange(cvk),np.ceil(m/cvk))\n",
    "ide = ide[np.random.choice(m,m,replace=False)]\n",
    "cvloss = []\n",
    "for gamma, lam in modelpars:\n",
    "    tcvloss = []\n",
    "    for k in np.arange(cvk):\n",
    "        # トレーニングデータ\n",
    "        trnu = nu[inu!=k,:]; trde = de[ide!=k,:]\n",
    "        # テストデータ\n",
    "        tenu = nu[inu==k,:]; tede = de[ide==k,:]\n",
    "        # 指定されたモデルパラメータで密度比を推定\n",
    "        kdr =kernelDensityRatio(gamma=gamma, lam=lam)\n",
    "        kdr.fit(trde, trnu)                             # 推定\n",
    "        wde = kdr.predict(tede)                         # de上で予測\n",
    "        wnu = kdr.predict(tenu)                         # nu上で予測\n",
    "        tcvloss.append(np.mean(wde**2)/2-np.mean(wnu))  # 二乗損失\n",
    "    cvloss.append(np.mean(tcvloss))\n",
    "# 最適なモデルパラメータ\n",
    "optgamma,optlam = modelpars[np.argmin(cvloss),:]\n",
    "optgamma,optlam"
   ]
  },
  {
   "cell_type": "code",
   "execution_count": 7,
   "metadata": {},
   "outputs": [
    {
     "data": {
      "image/png": "[encoded data removed]",
      "text/plain": [
       "<matplotlib.figure.Figure at 0x10a8b9fd0>"
      ]
     },
     "metadata": {},
     "output_type": "display_data"
    }
   ],
   "source": [
    "plt.xscale('log'); plt.xlabel('gamma'); plt.ylabel('cv loss')\n",
    "plt.scatter(gammas, cvloss)\n",
    "plt.show()"
   ]
  },
  {
   "cell_type": "code",
   "execution_count": 8,
   "metadata": {},
   "outputs": [
    {
     "data": {
      "text/plain": [
       "array([ 2.79602407,  2.79878159,  2.80145882,  2.80405541,  2.80657104,\n",
       "        2.80900535,  2.81135801,  2.8136287 ,  2.8158171 ,  2.81792289,\n",
       "        2.81994576,  2.8218854 ,  2.82374153,  2.82551384,  2.82720206,\n",
       "        2.8288059 ,  2.83032509,  2.83175937,  2.83310846,  2.83437212,\n",
       "        2.83555009,  2.83664214,  2.83764803,  2.83856753,  2.83940041,\n",
       "        2.84014647,  2.84080548,  2.84137724,  2.84186157,  2.84225826,\n",
       "        2.84256713,  2.84278801,  2.84292073,  2.84296512,  2.84292102,\n",
       "        2.84278829,  2.84256678,  2.84225636,  2.84185689,  2.84136826,\n",
       "        2.84079034,  2.84012304,  2.83936624,  2.83851986,  2.8375838 ,\n",
       "        2.83655799,  2.83544235,  2.83423681,  2.83294133,  2.83155584,\n",
       "        2.8300803 ,  2.82851468,  2.82685893,  2.82511305,  2.82327702,\n",
       "        2.82135082,  2.81933445,  2.81722793,  2.81503126,  2.81274447,\n",
       "        2.81036758,  2.80790063,  2.80534367,  2.80269673,  2.79995989,\n",
       "        2.7971332 ,  2.79421674,  2.79121058,  2.78811482,  2.78492954,\n",
       "        2.78165486,  2.77829087,  2.7748377 ,  2.77129547,  2.76766431,\n",
       "        2.76394436,  2.76013577,  2.75623868,  2.75225326,  2.74817968,\n",
       "        2.74401812,  2.73976875,  2.73543176,  2.73100736,  2.72649574,\n",
       "        2.72189713,  2.71721173,  2.71243978,  2.70758151,  2.70263716,\n",
       "        2.69760697,  2.69249121,  2.68729014,  2.68200402,  2.67663313,\n",
       "        2.67117776,  2.6656382 ,  2.66001474,  2.65430769,  2.64851737,\n",
       "        2.64264408,  2.63668816,  2.63064994,  2.62452976,  2.61832797,\n",
       "        2.61204492,  2.60568096,  2.59923647,  2.59271183,  2.5861074 ,\n",
       "        2.57942358,  2.57266077,  2.56581935,  2.55889975,  2.55190237,\n",
       "        2.54482763,  2.53767595,  2.53044778,  2.52314355,  2.5157637 ,\n",
       "        2.50830869,  2.50077898,  2.49317502,  2.48549729,  2.47774627,\n",
       "        2.46992243,  2.46202627,  2.45405827,  2.44601895,  2.4379088 ,\n",
       "        2.42972833,  2.42147807,  2.41315854,  2.40477026,  2.39631377,\n",
       "        2.3877896 ,  2.37919831,  2.37054045,  2.36181656,  2.35302722,\n",
       "        2.34417298,  2.33525442,  2.32627211,  2.31722664,  2.30811859,\n",
       "        2.29894856,  2.28971714,  2.28042493,  2.27107254,  2.26166057,\n",
       "        2.25218965,  2.24266039,  2.23307342,  2.22342936,  2.21372885,\n",
       "        2.20397252,  2.19416102,  2.18429499,  2.17437508,  2.16440195,\n",
       "        2.15437624,  2.14429863,  2.13416978,  2.12399035,  2.11376102,\n",
       "        2.10348246,  2.09315536,  2.08278039,  2.07235825,  2.06188961,\n",
       "        2.05137518,  2.04081564,  2.03021171,  2.01956407,  2.00887344,\n",
       "        1.99814051,  1.98736601,  1.97655064,  1.96569512,  1.95480016,\n",
       "        1.94386649,  1.93289483,  1.9218859 ,  1.91084043,  1.89975916,\n",
       "        1.8886428 ,  1.87749209,  1.86630777,  1.85509058,  1.84384125,\n",
       "        1.83256052,  1.82124914,  1.80990785,  1.79853738,  1.7871385 ,\n",
       "        1.77571193,  1.76425845,  1.75277878,  1.74127368,  1.72974391,\n",
       "        1.71819022,  1.70661335,  1.69501406,  1.6833931 ,  1.67175124,\n",
       "        1.66008922,  1.6484078 ,  1.63670773,  1.62498978,  1.61325469,\n",
       "        1.60150322,  1.58973613,  1.57795417,  1.5661581 ,  1.55434868,\n",
       "        1.54252665,  1.53069278,  1.51884781,  1.50699251,  1.49512761,\n",
       "        1.48325388,  1.47137206,  1.45948291,  1.44758717,  1.43568559,\n",
       "        1.42377892,  1.41186791,  1.39995329,  1.38803581,  1.37611621,\n",
       "        1.36419523,  1.35227361,  1.34035209,  1.3284314 ,  1.31651227,\n",
       "        1.30459544,  1.29268163,  1.28077156,  1.26886598,  1.25696559,\n",
       "        1.24507112,  1.23318328,  1.2213028 ,  1.20943038,  1.19756673,\n",
       "        1.18571257,  1.17386859,  1.16203551,  1.15021401,  1.1384048 ,\n",
       "        1.12660857,  1.11482601,  1.10305781,  1.09130465,  1.07956721,\n",
       "        1.06784618,  1.05614222,  1.044456  ,  1.0327882 ,  1.02113948,\n",
       "        1.0095105 ,  0.99790191,  0.98631437,  0.97474853,  0.96320503,\n",
       "        0.95168452,  0.94018762,  0.92871498,  0.91726723,  0.90584498,\n",
       "        0.89444887,  0.8830795 ,  0.87173749,  0.86042345,  0.84913798,\n",
       "        0.83788168,  0.82665515,  0.81545897,  0.80429373,  0.79316001,\n",
       "        0.78205839,  0.77098944,  0.75995373,  0.74895181,  0.73798424,\n",
       "        0.72705159,  0.71615438,  0.70529317,  0.69446849,  0.68368087,\n",
       "        0.67293085,  0.66221893,  0.65154565,  0.6409115 ,  0.63031699,\n",
       "        0.61976263,  0.6092489 ,  0.59877631,  0.58834532,  0.57795643,\n",
       "        0.5676101 ,  0.5573068 ,  0.54704699,  0.53683114,  0.52665968,\n",
       "        0.51653307,  0.50645174,  0.49641612,  0.48642666,  0.47648376,\n",
       "        0.46658784,  0.45673932,  0.44693859,  0.43718606,  0.42748213,\n",
       "        0.41782717,  0.40822156,  0.39866569,  0.38915992,  0.37970462,\n",
       "        0.37030014,  0.36094683,  0.35164504,  0.34239511,  0.33319737,\n",
       "        0.32405214,  0.31495975,  0.30592052,  0.29693475,  0.28800274,\n",
       "        0.2791248 ,  0.2703012 ,  0.26153224,  0.2528182 ,  0.24415934,\n",
       "        0.23555593,  0.22700823,  0.2185165 ,  0.21008098,  0.20170191,\n",
       "        0.19337953,  0.18511407,  0.17690575,  0.16875479,  0.1606614 ,\n",
       "        0.15262578,  0.14464813,  0.13672864,  0.12886751,  0.1210649 ,\n",
       "        0.113321  ,  0.10563596,  0.09800997,  0.09044316,  0.08293569,\n",
       "        0.0754877 ,  0.06809933,  0.06077071,  0.05350197,  0.04629323,\n",
       "        0.0391446 ,  0.03205618,  0.02502809,  0.01806041,  0.01115324,\n",
       "        0.00430665,  0.        ,  0.        ,  0.        ,  0.        ,\n",
       "        0.        ,  0.        ,  0.        ,  0.        ,  0.        ,\n",
       "        0.        ,  0.        ,  0.        ,  0.        ,  0.        ,\n",
       "        0.        ,  0.        ,  0.        ,  0.        ,  0.        ,\n",
       "        0.        ,  0.        ,  0.        ,  0.        ,  0.        ,\n",
       "        0.        ,  0.        ,  0.        ,  0.        ,  0.        ,\n",
       "        0.        ,  0.        ,  0.        ,  0.        ,  0.        ,\n",
       "        0.        ,  0.        ,  0.        ,  0.        ,  0.        ,\n",
       "        0.        ,  0.        ,  0.        ,  0.        ,  0.        ,\n",
       "        0.        ,  0.        ,  0.        ,  0.        ,  0.        ,\n",
       "        0.        ,  0.        ,  0.        ,  0.        ,  0.        ,\n",
       "        0.        ,  0.        ,  0.        ,  0.        ,  0.        ,\n",
       "        0.        ,  0.        ,  0.        ,  0.        ,  0.        ,\n",
       "        0.        ,  0.        ,  0.        ,  0.        ,  0.        ,\n",
       "        0.        ,  0.        ,  0.        ,  0.        ,  0.        ,\n",
       "        0.        ,  0.        ,  0.        ,  0.        ,  0.        ,\n",
       "        0.        ,  0.        ,  0.        ,  0.        ,  0.        ,\n",
       "        0.        ,  0.        ,  0.        ,  0.        ,  0.        ,\n",
       "        0.        ,  0.        ,  0.        ,  0.        ,  0.        ,\n",
       "        0.        ,  0.        ,  0.        ,  0.        ,  0.        ,\n",
       "        0.        ,  0.        ,  0.        ,  0.        ,  0.        ,\n",
       "        0.        ,  0.        ,  0.        ,  0.        ,  0.        ,\n",
       "        0.        ,  0.        ,  0.        ,  0.        ,  0.        ,\n",
       "        0.        ,  0.        ,  0.        ,  0.        ,  0.        ,\n",
       "        0.        ,  0.        ,  0.        ,  0.        ,  0.        ,\n",
       "        0.        ,  0.        ,  0.        ,  0.        ,  0.        ,\n",
       "        0.        ,  0.        ,  0.        ,  0.        ,  0.        ])"
      ]
     },
     "execution_count": 8,
     "metadata": {},
     "output_type": "execute_result"
    }
   ],
   "source": [
    "# 密度比の推定\n",
    "kdr =kernelDensityRatio(gamma=optgamma, lam=optlam)\n",
    "kdr.fit(de,nu)\n",
    "kdr.predict(newdat)"
   ]
  },
  {
   "cell_type": "markdown",
   "metadata": {},
   "source": [
    "# 共変量シフトの下での回帰分析"
   ]
  },
  {
   "cell_type": "code",
   "execution_count": 9,
   "metadata": {},
   "outputs": [],
   "source": [
    "# 真の回帰関数 \n",
    "def f(x):            \n",
    "    return (x+2)*(x-3)*x\n",
    "# データ設定\n",
    "ntr = 100; mtr = -1.4; sdtr = 0.7\n",
    "nte = 100; mte =  0.8; sdte = 0.8\n",
    "# トレーニングデータ生成\n",
    "xtr = np.random.normal(loc=mtr, scale=sdtr, size=ntr).reshape(ntr,1)\n",
    "ytr = f(xtr) + np.random.normal(scale=2, size=ntr).reshape(ntr,1)\n",
    "# テストデータ生成\n",
    "xte = np.random.normal(loc=mte, scale=sdte, size=nte).reshape(nte,1)\n",
    "yte = f(xte) + np.random.normal(scale=2, size=nte).reshape(nte,1) "
   ]
  },
  {
   "cell_type": "code",
   "execution_count": 10,
   "metadata": {},
   "outputs": [
    {
     "data": {
      "text/plain": [
       "array([[ 0.01626903],\n",
       "       [-2.0749553 ]])"
      ]
     },
     "execution_count": 10,
     "metadata": {},
     "output_type": "execute_result"
    }
   ],
   "source": [
    "# トレーニングデータ点上での密度比を推定\n",
    "kdr = kernelDensityRatio()\n",
    "kdr.fit(xtr,xte)\n",
    "pw = kdr.predict(xtr)\n",
    "# 重み付き最小二乗法で回帰パラメータを推定\n",
    "W = np.sqrt(np.diag(pw))\n",
    "X =  sm.add_constant(xtr)\n",
    "WX = np.dot(W,X); WY = np.dot(W, ytr)\n",
    "estTheta = np.linalg.solve(np.dot(WX.T,WX), np.dot(WX.T,WY))\n",
    "estTheta"
   ]
  },
  {
   "cell_type": "markdown",
   "metadata": {},
   "source": [
    "# 二標本検定"
   ]
  },
  {
   "cell_type": "code",
   "execution_count": 11,
   "metadata": {},
   "outputs": [],
   "source": [
    "from sklearn.preprocessing import scale\n",
    "from sklearn import datasets\n",
    "d = datasets.load_breast_cancer()        # データ読込み\n",
    "de = d.data[d.target==0]; de = scale(de) # スケーリング\n",
    "nu = d.data[d.target==1]; nu = scale(nu) # スケーリング"
   ]
  },
  {
   "cell_type": "code",
   "execution_count": 12,
   "metadata": {},
   "outputs": [
    {
     "data": {
      "text/plain": [
       "0.059900000000000002"
      ]
     },
     "execution_count": 12,
     "metadata": {},
     "output_type": "execute_result"
    }
   ],
   "source": [
    "kdr =kernelDensityRatio() \n",
    "kdr.fit(de,nu)                               # 密度比の推定\n",
    "L1distEst = np.mean(abs(1-kdr.predict(de)))  # L1距離の推定値\n",
    "nperm = 10000                                # 並べ替え検定の繰り返し数\n",
    "nde = de.shape[0]; nnu = nu.shape[0]\n",
    "dall = np.r_[de,nu]\n",
    "permL1dist = []\n",
    "for itr in np.arange(nperm):         \n",
    "    idx = np.random.choice(nde+nnu,nde,replace=False)   # データの並べ替え\n",
    "    perm_de = dall[idx,:]\n",
    "    perm_nu = np.delete(dall,idx,0)\n",
    "    pdr =kernelDensityRatio()\n",
    "    pdr.fit(perm_de, perm_nu)            # 並べ替えデータに対する密度比の推定\n",
    "    permL1dist.append(np.mean(abs(1-pdr.predict(perm_de)))) # L1距離の推定\n",
    "np.mean(L1distEst < np.array(permL1dist))          # 並べ替え検定による p値"
   ]
  },
  {
   "cell_type": "code",
   "execution_count": null,
   "metadata": {},
   "outputs": [],
   "source": []
  }
 ],
 "metadata": {
  "kernelspec": {
   "display_name": "Python 3",
   "language": "python",
   "name": "python3"
  },
  "language_info": {
   "codemirror_mode": {
    "name": "ipython",
    "version": 3
   },
   "file_extension": ".py",
   "mimetype": "text/x-python",
   "name": "python",
   "nbconvert_exporter": "python",
   "pygments_lexer": "ipython3",
   "version": "3.6.3"
  }
 },
 "nbformat": 4,
 "nbformat_minor": 2
}
