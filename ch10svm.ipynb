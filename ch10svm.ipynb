{
 "cells": [
  {
   "cell_type": "code",
   "execution_count": 1,
   "metadata": {
    "collapsed": true
   },
   "outputs": [],
   "source": [
    "import numpy as np               \n",
    "import matplotlib.pyplot as plt  \n",
    "import pandas as pd\n",
    "from sklearn.svm import SVC"
   ]
  },
  {
   "cell_type": "markdown",
   "metadata": {},
   "source": [
    "# 2値判別のサポートベクトルマシン"
   ]
  },
  {
   "cell_type": "code",
   "execution_count": 2,
   "metadata": {},
   "outputs": [
    {
     "data": {
      "text/plain": [
       "0.070000000000000007"
      ]
     },
     "execution_count": 2,
     "metadata": {},
     "output_type": "execute_result"
    }
   ],
   "source": [
    "from common import mlbench as ml\n",
    "X,y = ml.twoDnormals(200, cl=2, sd=1)  # トレーニングデータ\n",
    "sv = SVC(kernel=\"linear\")\n",
    "sv.fit(X,y)                                     # フィッティング\n",
    "np.mean(sv.predict(X)!=y)        # トレーニング誤差の計算"
   ]
  },
  {
   "cell_type": "code",
   "execution_count": 3,
   "metadata": {},
   "outputs": [
    {
     "data": {
      "text/plain": [
       "{'C': 1.0,\n",
       " 'cache_size': 200,\n",
       " 'class_weight': None,\n",
       " 'coef0': 0.0,\n",
       " 'decision_function_shape': 'ovr',\n",
       " 'degree': 3,\n",
       " 'gamma': 'auto',\n",
       " 'kernel': 'linear',\n",
       " 'max_iter': -1,\n",
       " 'probability': False,\n",
       " 'random_state': None,\n",
       " 'shrinking': True,\n",
       " 'tol': 0.001,\n",
       " 'verbose': False}"
      ]
     },
     "execution_count": 3,
     "metadata": {},
     "output_type": "execute_result"
    }
   ],
   "source": [
    "sv.get_params()"
   ]
  },
  {
   "cell_type": "code",
   "execution_count": 4,
   "metadata": {},
   "outputs": [
    {
     "data": {
      "text/plain": [
       "0.085999999999999965"
      ]
     },
     "execution_count": 4,
     "metadata": {},
     "output_type": "execute_result"
    }
   ],
   "source": [
    "tX,ty = ml.twoDnormals(1000, cl=2, sd=1)   # テストデータ  \n",
    "py = sv.predict(tX)    # 予測ラベル\n",
    "np.mean(ty!=py)\n",
    "1-sv.score(tX,ty)      # scoreで精度を計算．"
   ]
  },
  {
   "cell_type": "markdown",
   "metadata": {},
   "source": [
    "# カーネル・サポートベクトルマシン"
   ]
  },
  {
   "cell_type": "code",
   "execution_count": 5,
   "metadata": {
    "collapsed": true
   },
   "outputs": [],
   "source": [
    "X,y = ml.spirals(300, cycles=1,sd=0.15)       # トレーニングデータ\n",
    "tX,ty = ml.spirals(1000,cycles=1,sd=0.15)     # テストデータ"
   ]
  },
  {
   "cell_type": "code",
   "execution_count": 6,
   "metadata": {},
   "outputs": [
    {
     "data": {
      "text/plain": [
       "0.43300000000000005"
      ]
     },
     "execution_count": 6,
     "metadata": {},
     "output_type": "execute_result"
    }
   ],
   "source": [
    "# 2次多項式カーネル\n",
    "sv2 = SVC(kernel=\"poly\",degree=2,gamma=1,coef0=1)\n",
    "sv2.fit(X,y)              # フィッティング\n",
    "1-sv2.score(tX,ty)        # テスト誤差"
   ]
  },
  {
   "cell_type": "code",
   "execution_count": 7,
   "metadata": {},
   "outputs": [
    {
     "data": {
      "text/plain": [
       "0.22799999999999998"
      ]
     },
     "execution_count": 7,
     "metadata": {},
     "output_type": "execute_result"
    }
   ],
   "source": [
    "# 3次多項式カーネル\n",
    "sv3 = SVC(kernel=\"poly\",degree=3,gamma=1,coef0=1)\n",
    "sv3.fit(X,y)              # フィッティング\n",
    "1-sv3.score(tX,ty)        # テスト誤差"
   ]
  },
  {
   "cell_type": "code",
   "execution_count": 8,
   "metadata": {
    "collapsed": true
   },
   "outputs": [],
   "source": [
    "# 判別境界のプロット\n",
    "from common.contourFittedClass import cplot                       # 等高線プロット用関数 (contourFittedClass.py)\n",
    "X,y   = ml.spirals(300, cycles=1,sd=0.15)     # トレーニングデータ"
   ]
  },
  {
   "cell_type": "code",
   "execution_count": 9,
   "metadata": {},
   "outputs": [
    {
     "data": {
      "image/png": "[encoded data removed]",
      "text/plain": [
       "<matplotlib.figure.Figure at 0x1a0b7a6b70>"
      ]
     },
     "metadata": {},
     "output_type": "display_data"
    }
   ],
   "source": [
    "# 2次多項式カーネル\n",
    "sv = SVC(kernel=\"poly\",degree=2,gamma=1,coef0=1)\n",
    "sv.fit(X,y) \n",
    "cplot(sv,X,y,h=0.005)"
   ]
  },
  {
   "cell_type": "code",
   "execution_count": 10,
   "metadata": {},
   "outputs": [
    {
     "data": {
      "image/png": "[encoded data removed]",
      "text/plain": [
       "<matplotlib.figure.Figure at 0x1a107889b0>"
      ]
     },
     "metadata": {},
     "output_type": "display_data"
    }
   ],
   "source": [
    "# 3次多項式カーネル\n",
    "sv = SVC(kernel=\"poly\",degree=3,gamma=1,coef0=1)\n",
    "sv.fit(X,y) \n",
    "cplot(sv,X,y,h=0.005)"
   ]
  },
  {
   "cell_type": "markdown",
   "metadata": {},
   "source": [
    "# モデルパラメータの選択"
   ]
  },
  {
   "cell_type": "code",
   "execution_count": 11,
   "metadata": {},
   "outputs": [
    {
     "data": {
      "text/plain": [
       "array([ 0.91803279,  0.95081967,  0.91666667,  0.89830508,  0.88135593])"
      ]
     },
     "execution_count": 11,
     "metadata": {},
     "output_type": "execute_result"
    }
   ],
   "source": [
    "from sklearn.model_selection import cross_validate\n",
    "X,y = ml.twoDnormals(300, cl=2, sd=1)   # トレーニングデータ(2D混合正規)\n",
    "# K-重交差検証法(K=5)：gamma=0.1, C=1のときの検証誤差を計算\n",
    "sv = SVC(kernel=\"rbf\",gamma=0.1,C=1)         # SVM(ガウスカーネル)\n",
    "cv = cross_validate(sv, X, y, scoring='accuracy', cv=5)\n",
    "cv['test_score']                             # テスト誤差の推定結果を表示"
   ]
  },
  {
   "cell_type": "code",
   "execution_count": 12,
   "metadata": {},
   "outputs": [
    {
     "data": {
      "text/plain": [
       "0.9130360285264425"
      ]
     },
     "execution_count": 12,
     "metadata": {},
     "output_type": "execute_result"
    }
   ],
   "source": [
    "np.mean(cv['test_score'])       # 交差検証法による精度の推定"
   ]
  },
  {
   "cell_type": "code",
   "execution_count": 13,
   "metadata": {},
   "outputs": [
    {
     "data": {
      "text/plain": [
       "0.0869639714735575"
      ]
     },
     "execution_count": 13,
     "metadata": {},
     "output_type": "execute_result"
    }
   ],
   "source": [
    "1-np.mean(cv['test_score'])     # 検証誤差"
   ]
  },
  {
   "cell_type": "code",
   "execution_count": 14,
   "metadata": {},
   "outputs": [
    {
     "data": {
      "text/plain": [
       "array([ 66.49936874,  23.73100493,  14.28101367,  10.02323562,\n",
       "         7.59611615,   6.10047212,   5.03617143,   4.30198979,\n",
       "         3.76586726,   3.34555203,   2.98315203,   2.69674055,\n",
       "         2.44186946,   2.23227753,   2.05303866,   1.90943476,\n",
       "         1.77062847,   1.65465188,   1.54636904,   1.44942319,\n",
       "         1.36362093,   1.28586258,   1.21839425,   1.14636094,\n",
       "         1.07819538,   1.01951659,   0.96632012,   0.91952482,\n",
       "         0.87190228,   0.83109739,   0.79046064,   0.74794912,\n",
       "         0.71290447,   0.67682573,   0.6440445 ,   0.61230343,\n",
       "         0.58099529,   0.55297732,   0.52388231,   0.49691609,\n",
       "         0.47284868,   0.44681625,   0.4205339 ,   0.39582338,\n",
       "         0.37150187,   0.34604888,   0.31921942,   0.28918214,\n",
       "         0.25786976,   0.21047307])"
      ]
     },
     "execution_count": 14,
     "metadata": {},
     "output_type": "execute_result"
    }
   ],
   "source": [
    "from scipy.spatial import distance\n",
    "X,y = ml.spirals(200, cycles=1.2, sd=0.16)  # トレーニングデータ\n",
    "dm = distance.pdist(X)                           # 距離行列の計算\n",
    "# 距離の分位点からgammaの候補値を設定\n",
    "cg = 1/np.percentile(dm,np.arange(1,100,2))**2 \n",
    "cg"
   ]
  },
  {
   "cell_type": "code",
   "execution_count": 15,
   "metadata": {},
   "outputs": [
    {
     "data": {
      "text/plain": [
       "10.023235616797313"
      ]
     },
     "execution_count": 15,
     "metadata": {},
     "output_type": "execute_result"
    }
   ],
   "source": [
    "ncv = 5                           # K=5でK-重交差検証法を実行\n",
    "cvg = np.array([])\n",
    "for g in cg:                      # 各gammaごとに検証誤差を計算\n",
    "    sv = SVC(kernel=\"rbf\", gamma=g, C=1)\n",
    "    cv = cross_validate(sv,X,y,scoring='accuracy',cv=ncv)\n",
    "    cvg = np.r_[cvg,np.mean(cv['test_score'])]\n",
    "cverr = 1-cvg                         # 検証誤差\n",
    "opt_gamma = cg[np.argmin(cverr)]      # 最適なgamma\n",
    "opt_gamma"
   ]
  },
  {
   "cell_type": "code",
   "execution_count": 16,
   "metadata": {
    "collapsed": true
   },
   "outputs": [],
   "source": [
    "X,y   = ml.spirals(300, cycles=1,sd=0.15)     # トレーニングデータ\n",
    "tX,ty = ml.spirals(1000,cycles=1,sd=0.15)     # テストデータ"
   ]
  },
  {
   "cell_type": "code",
   "execution_count": 17,
   "metadata": {},
   "outputs": [
    {
     "name": "stdout",
     "output_type": "stream",
     "text": [
      "テスト誤差:  0.493\n"
     ]
    },
    {
     "data": {
      "image/png": "[encoded data removed]",
      "text/plain": [
       "<matplotlib.figure.Figure at 0x1a14280f98>"
      ]
     },
     "metadata": {},
     "output_type": "display_data"
    }
   ],
   "source": [
    "sv = SVC(kernel=\"rbf\",C=1,gamma=cg.min())\n",
    "sv.fit(X,y)                                           # フィッティング\n",
    "print(\"テスト誤差: \", 1-sv.score(tX,ty))            \n",
    "cplot(sv,X,y,h=0.005)"
   ]
  },
  {
   "cell_type": "code",
   "execution_count": 18,
   "metadata": {},
   "outputs": [
    {
     "name": "stdout",
     "output_type": "stream",
     "text": [
      "テスト誤差:  0.151\n"
     ]
    },
    {
     "data": {
      "image/png": "[encoded data removed]",
      "text/plain": [
       "<matplotlib.figure.Figure at 0x1a14a8e7f0>"
      ]
     },
     "metadata": {},
     "output_type": "display_data"
    }
   ],
   "source": [
    "sv = SVC(kernel=\"rbf\",C=1,gamma=opt_gamma)\n",
    "sv.fit(X,y)                                    # フィッティング\n",
    "print('テスト誤差: ', 1-sv.score(tX,ty))            \n",
    "cplot(sv,X,y,h=0.005)"
   ]
  },
  {
   "cell_type": "code",
   "execution_count": 19,
   "metadata": {},
   "outputs": [
    {
     "name": "stdout",
     "output_type": "stream",
     "text": [
      "テスト誤差:  0.167\n"
     ]
    },
    {
     "data": {
      "image/png": "[encoded data removed]",
      "text/plain": [
       "<matplotlib.figure.Figure at 0x1a15a33358>"
      ]
     },
     "metadata": {},
     "output_type": "display_data"
    }
   ],
   "source": [
    "sv = SVC(kernel=\"rbf\",C=1,gamma=cg.max())\n",
    "sv.fit(X,y)            # フィッティング\n",
    "print('テスト誤差: ',1-sv.score(tX,ty))          \n",
    "cplot(sv,X,y,h=0.005)"
   ]
  },
  {
   "cell_type": "markdown",
   "metadata": {},
   "source": [
    "# 多値判別"
   ]
  },
  {
   "cell_type": "code",
   "execution_count": 20,
   "metadata": {
    "collapsed": true
   },
   "outputs": [],
   "source": [
    "G = 8                                   # 8クラスの多値判別\n",
    "X,y = ml.twoDnormals(500, cl=G,sd=0.8)       # トレーニングデータ\n",
    "tX,ty = ml.twoDnormals(1000,cl=G,sd=0.8)  # テストデータ"
   ]
  },
  {
   "cell_type": "code",
   "execution_count": 21,
   "metadata": {},
   "outputs": [
    {
     "data": {
      "text/plain": [
       "0.16500000000000004"
      ]
     },
     "execution_count": 21,
     "metadata": {},
     "output_type": "execute_result"
    }
   ],
   "source": [
    "# 一対一法のサポートベクトルマシンで多値判別\n",
    "# 線形カーネル\n",
    "svlin = SVC(kernel='linear',decision_function_shape='ovo')\n",
    "svlin.fit(X,y)         # フィッティング\n",
    "1-svlin.score(tX,ty)   # テスト誤差"
   ]
  },
  {
   "cell_type": "code",
   "execution_count": 22,
   "metadata": {},
   "outputs": [
    {
     "data": {
      "text/plain": [
       "0.17800000000000005"
      ]
     },
     "execution_count": 22,
     "metadata": {},
     "output_type": "execute_result"
    }
   ],
   "source": [
    "# ガウスカーネル\n",
    "svrbf = SVC(kernel='rbf',decision_function_shape='ovo')\n",
    "svrbf.fit(X,y)         # フィッティング\n",
    "1-svrbf.score(tX,ty)   # テスト誤差"
   ]
  },
  {
   "cell_type": "code",
   "execution_count": 23,
   "metadata": {
    "collapsed": true
   },
   "outputs": [],
   "source": [
    "# 手書き文字認識   \n",
    "from scipy.spatial import distance           # distanceを使う\n",
    "# データ読込\n",
    "tr = pd.read_csv('data/optdigits_train.csv').values\n",
    "te = pd.read_csv('data/optdigits_test.csv').values\n",
    "X,y = tr[:,:64], tr[:,64]\n",
    "tX,ty = te[:,:64], te[:,64]"
   ]
  },
  {
   "cell_type": "code",
   "execution_count": 24,
   "metadata": {},
   "outputs": [
    {
     "data": {
      "text/plain": [
       "0.0"
      ]
     },
     "execution_count": 24,
     "metadata": {},
     "output_type": "execute_result"
    }
   ],
   "source": [
    "# 線形カーネルで学習\n",
    "svlin = SVC(kernel='linear',decision_function_shape='ovo')\n",
    "svlin.fit(X,y)\n",
    "1-svlin.score(X,y)     # トレーニング誤差"
   ]
  },
  {
   "cell_type": "code",
   "execution_count": 25,
   "metadata": {},
   "outputs": [
    {
     "data": {
      "text/plain": [
       "0.03897550111358572"
      ]
     },
     "execution_count": 25,
     "metadata": {},
     "output_type": "execute_result"
    }
   ],
   "source": [
    "1-svlin.score(tX,ty)   # テスト誤差"
   ]
  },
  {
   "cell_type": "code",
   "execution_count": 26,
   "metadata": {},
   "outputs": [
    {
     "data": {
      "text/plain": [
       "0.00040683482506102521"
      ]
     },
     "execution_count": 26,
     "metadata": {},
     "output_type": "execute_result"
    }
   ],
   "source": [
    "# ガウスカーネルによる学習\n",
    "# 一部のデータを使ってヒューリスティクスで gamma を設定．\n",
    "pX = X[np.random.choice(X.shape[0],round(X.shape[0]/10)),:]\n",
    "g = 1/np.median(distance.pdist(pX))**2     # 距離行列からgammaの値を設定\n",
    "g"
   ]
  },
  {
   "cell_type": "code",
   "execution_count": 27,
   "metadata": {},
   "outputs": [
    {
     "data": {
      "text/plain": [
       "0.0070643642072213408"
      ]
     },
     "execution_count": 27,
     "metadata": {},
     "output_type": "execute_result"
    }
   ],
   "source": [
    "svrbf = SVC(kernel='rbf',decision_function_shape='ovo',gamma=g)\n",
    "svrbf.fit(X,y)\n",
    "1-svrbf.score(X,y)       # トレーニング誤差"
   ]
  },
  {
   "cell_type": "code",
   "execution_count": 28,
   "metadata": {},
   "outputs": [
    {
     "data": {
      "text/plain": [
       "0.024498886414253906"
      ]
     },
     "execution_count": 28,
     "metadata": {},
     "output_type": "execute_result"
    }
   ],
   "source": [
    "1-svrbf.score(tX,ty)     # テスト誤差"
   ]
  },
  {
   "cell_type": "code",
   "execution_count": 29,
   "metadata": {},
   "outputs": [
    {
     "data": {
      "text/plain": [
       "0.0"
      ]
     },
     "execution_count": 29,
     "metadata": {},
     "output_type": "execute_result"
    }
   ],
   "source": [
    "# ガウスカーネルのカーネル幅を変更\n",
    "g = 0.01\n",
    "svrbf = SVC(kernel='rbf',decision_function_shape='ovo',gamma=g)\n",
    "svrbf.fit(X,y)\n",
    "1-svrbf.score(X,y)       # トレーニング誤差"
   ]
  },
  {
   "cell_type": "code",
   "execution_count": 30,
   "metadata": {},
   "outputs": [
    {
     "data": {
      "text/plain": [
       "0.26113585746102452"
      ]
     },
     "execution_count": 30,
     "metadata": {},
     "output_type": "execute_result"
    }
   ],
   "source": [
    "1-svrbf.score(tX,ty)     # テスト誤差"
   ]
  },
  {
   "cell_type": "code",
   "execution_count": null,
   "metadata": {
    "collapsed": true
   },
   "outputs": [],
   "source": []
  }
 ],
 "metadata": {
  "kernelspec": {
   "display_name": "Python 3",
   "language": "python",
   "name": "python3"
  },
  "language_info": {
   "codemirror_mode": {
    "name": "ipython",
    "version": 3
   },
   "file_extension": ".py",
   "mimetype": "text/x-python",
   "name": "python",
   "nbconvert_exporter": "python",
   "pygments_lexer": "ipython3",
   "version": "3.6.3"
  }
 },
 "nbformat": 4,
 "nbformat_minor": 2
}
