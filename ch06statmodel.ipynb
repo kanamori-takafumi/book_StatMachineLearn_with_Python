{
 "cells": [
  {
   "cell_type": "code",
   "execution_count": 1,
   "metadata": {
    "collapsed": true
   },
   "outputs": [],
   "source": [
    "import numpy as np\n",
    "import matplotlib.pyplot as plt\n",
    "import pandas as pd"
   ]
  },
  {
   "cell_type": "markdown",
   "metadata": {},
   "source": [
    "# 統計モデル"
   ]
  },
  {
   "cell_type": "code",
   "execution_count": 2,
   "metadata": {},
   "outputs": [
    {
     "data": {
      "image/png": "[encoded data removed]",
      "text/plain": [
       "<matplotlib.figure.Figure at 0x10a157320>"
      ]
     },
     "metadata": {},
     "output_type": "display_data"
    }
   ],
   "source": [
    "dat = pd.read_csv('data/morley.csv').values.ravel()  # データ読み込みee\n",
    "plt.hist(dat, bins=20, rwidth=0.9)              # プロット\n",
    "plt.show()"
   ]
  },
  {
   "cell_type": "markdown",
   "metadata": {},
   "source": [
    "# 最尤推定量の計算法"
   ]
  },
  {
   "cell_type": "code",
   "execution_count": 3,
   "metadata": {},
   "outputs": [
    {
     "data": {
      "text/plain": [
       "0.89672167069695474"
      ]
     },
     "execution_count": 3,
     "metadata": {},
     "output_type": "execute_result"
    }
   ],
   "source": [
    "x = np.random.uniform(size=10)  # データ数 10\n",
    "np.max(x)                       # 最尤推定"
   ]
  },
  {
   "cell_type": "code",
   "execution_count": 4,
   "metadata": {},
   "outputs": [
    {
     "data": {
      "text/plain": [
       "0.99837047212661578"
      ]
     },
     "execution_count": 4,
     "metadata": {},
     "output_type": "execute_result"
    }
   ],
   "source": [
    "x = np.random.uniform(size=100) # データ数 100\n",
    "np.max(x)                       # 最尤推定"
   ]
  },
  {
   "cell_type": "code",
   "execution_count": 5,
   "metadata": {},
   "outputs": [
    {
     "data": {
      "text/plain": [
       "0.53644018864313159"
      ]
     },
     "execution_count": 5,
     "metadata": {},
     "output_type": "execute_result"
    }
   ],
   "source": [
    "n = 10                                # データ数\n",
    "x = np.random.uniform(size=n)         # データ生成\n",
    "((n+1)/n) * np.max(x)                 # 不偏推定量"
   ]
  },
  {
   "cell_type": "code",
   "execution_count": 6,
   "metadata": {},
   "outputs": [
    {
     "data": {
      "text/plain": [
       "(100, 10)"
      ]
     },
     "execution_count": 6,
     "metadata": {},
     "output_type": "execute_result"
    }
   ],
   "source": [
    "X = np.random.rand(100,n)             # 100セットのデータを生成\n",
    "X.shape"
   ]
  },
  {
   "cell_type": "code",
   "execution_count": 7,
   "metadata": {},
   "outputs": [
    {
     "data": {
      "text/plain": [
       "0.89958718667796544"
      ]
     },
     "execution_count": 7,
     "metadata": {},
     "output_type": "execute_result"
    }
   ],
   "source": [
    "# 最尤推定の平均値\n",
    "# np.amaxで行列Xの各行(axis=1)にmaxを適用．それらの平均値を求める．\n",
    "np.mean(np.amax(X,axis=1)) "
   ]
  },
  {
   "cell_type": "code",
   "execution_count": 8,
   "metadata": {},
   "outputs": [
    {
     "data": {
      "text/plain": [
       "0.98954590534576203"
      ]
     },
     "execution_count": 8,
     "metadata": {},
     "output_type": "execute_result"
    }
   ],
   "source": [
    "# 不偏推定の平均値\n",
    "np.mean((n+1)/n * np.amax(X,axis=1))"
   ]
  },
  {
   "cell_type": "code",
   "execution_count": 9,
   "metadata": {
    "collapsed": true
   },
   "outputs": [],
   "source": [
    "df = pd.DataFrame(X)     # データフレームを作る"
   ]
  },
  {
   "cell_type": "code",
   "execution_count": 10,
   "metadata": {},
   "outputs": [
    {
     "data": {
      "text/plain": [
       "0.899587186677965"
      ]
     },
     "execution_count": 10,
     "metadata": {},
     "output_type": "execute_result"
    }
   ],
   "source": [
    "np.mean(df.apply(np.max, axis=1))                     # 最尤推定の平均値"
   ]
  },
  {
   "cell_type": "code",
   "execution_count": 11,
   "metadata": {},
   "outputs": [
    {
     "data": {
      "text/plain": [
       "0.9895459053457618"
      ]
     },
     "execution_count": 11,
     "metadata": {},
     "output_type": "execute_result"
    }
   ],
   "source": [
    "np.mean(df.apply(lambda x:(n+1)/n*np.max(x), axis=1)) # 不偏推定の平均値"
   ]
  },
  {
   "cell_type": "code",
   "execution_count": 12,
   "metadata": {},
   "outputs": [
    {
     "name": "stdout",
     "output_type": "stream",
     "text": [
      "Optimization terminated successfully.\n",
      "         Current function value: 128.937985\n",
      "         Iterations: 29\n",
      "         Function evaluations: 55\n"
     ]
    },
    {
     "data": {
      "text/plain": [
       "array([ 0.29787785,  0.22930651,  0.47281564])"
      ]
     },
     "execution_count": 12,
     "metadata": {},
     "output_type": "execute_result"
    }
   ],
   "source": [
    "# 表現型から遺伝子型の比率を推定\n",
    "from common import bloodtype as bt\n",
    "n = np.array([40,30,10,20])     # 例．A:40人，B:30人，AB:10人，O: 20人\n",
    "bt.mle(n)                       # 最尤推定値の計算"
   ]
  },
  {
   "cell_type": "markdown",
   "metadata": {},
   "source": [
    "# 混合モデルとEMアルゴリズム"
   ]
  },
  {
   "cell_type": "code",
   "execution_count": 13,
   "metadata": {},
   "outputs": [
    {
     "data": {
      "text/plain": [
       "(3822, 64)"
      ]
     },
     "execution_count": 13,
     "metadata": {},
     "output_type": "execute_result"
    }
   ],
   "source": [
    "# EMmixBernoulli 関数を読込み\n",
    "from common.statmodelEMalg import EMmixBernoulli\n",
    "a = pd.read_csv('data/optdigits_train.csv')     # データ読込み\n",
    "x = a.values[:,0:64]>8   # 16段階調の8以下を0とし，9以上を1に変換\n",
    "x.shape                  # 3823サンプル64次元データ"
   ]
  },
  {
   "cell_type": "code",
   "execution_count": 14,
   "metadata": {
    "collapsed": true
   },
   "outputs": [],
   "source": [
    "y = a.values[:,64]       # 各画像データのラベル．混合モデルの推定には使わない\n",
    "# 混合ベルヌーイ分布でデータの分布を推定\n",
    "em = EMmixBernoulli(K=10)   # コンポーネント数は10\n",
    "em.fit(x)                    # EMアルゴリズムでパラメータ推定\n",
    "ec = em.predict(x)"
   ]
  },
  {
   "cell_type": "code",
   "execution_count": 15,
   "metadata": {},
   "outputs": [
    {
     "data": {
      "text/plain": [
       "array([[  1,   2,   8],\n",
       "       [ 17, 338,   2]])"
      ]
     },
     "execution_count": 15,
     "metadata": {},
     "output_type": "execute_result"
    }
   ],
   "source": [
    "# 第1コンポーネント(インデックスは0)に属すデータのラベルを表示\n",
    "u,c = np.unique(y[ec==0], return_counts=True)\n",
    "np.c_[u,c].T"
   ]
  },
  {
   "cell_type": "code",
   "execution_count": 16,
   "metadata": {},
   "outputs": [
    {
     "data": {
      "text/plain": [
       "array([[  0,   1,   4,   5,   6],\n",
       "       [  1,   1, 256,   1,   1]])"
      ]
     },
     "execution_count": 16,
     "metadata": {},
     "output_type": "execute_result"
    }
   ],
   "source": [
    "# 第3コンポーネント(インデックスは2)に属すデータのラベルを表示 \n",
    "u,c = np.unique(y[ec==2], return_counts=True)\n",
    "np.c_[u,c].T"
   ]
  },
  {
   "cell_type": "code",
   "execution_count": 18,
   "metadata": {},
   "outputs": [
    {
     "data": {
      "text/plain": [
       "array([[  0,   1,   4,   5,   6],\n",
       "       [  1,   1, 256,   1,   1]])"
      ]
     },
     "execution_count": 18,
     "metadata": {},
     "output_type": "execute_result"
    }
   ],
   "source": [
    "# コンポーネント数5で推定\n",
    "em.K = 5\n",
    "ec = em.predict(x)\n",
    "# 第3コンポーネントに属すデータのラベルを表示 \n",
    "u,c = np.unique(y[ec==2], return_counts=True)\n",
    "np.c_[u,c].T"
   ]
  },
  {
   "cell_type": "code",
   "execution_count": 19,
   "metadata": {},
   "outputs": [
    {
     "data": {
      "text/plain": [
       "75748.489650922435"
      ]
     },
     "execution_count": 19,
     "metadata": {},
     "output_type": "execute_result"
    }
   ],
   "source": [
    "em.BIC"
   ]
  },
  {
   "cell_type": "code",
   "execution_count": 20,
   "metadata": {},
   "outputs": [
    {
     "name": "stdout",
     "output_type": "stream",
     "text": [
      "K= 10\n",
      "K= 20\n",
      "K= 30\n",
      "K= 40\n",
      "K= 50\n"
     ]
    }
   ],
   "source": [
    "# コンポーネント数の候補\n",
    "eml = EMmixBernoulli()\n",
    "Klist = np.arange(4,51)\n",
    "BIClist = np.array([])\n",
    "for K in Klist:\n",
    "    if K%10==0:  #途中経過表示\n",
    "        print('K=',K)\n",
    "    eml.K = K          # コンポーネント数設定\n",
    "    eml.fit(x)          # EMアルゴリズムでパラメータ推定\n",
    "    BIClist = np.append(BIClist, eml.BIC)"
   ]
  },
  {
   "cell_type": "code",
   "execution_count": 23,
   "metadata": {},
   "outputs": [
    {
     "data": {
      "text/plain": [
       "25"
      ]
     },
     "execution_count": 23,
     "metadata": {},
     "output_type": "execute_result"
    }
   ],
   "source": [
    "Klist[np.argmin(BIClist)]  # BICが最小のコンポーネント数"
   ]
  },
  {
   "cell_type": "code",
   "execution_count": 24,
   "metadata": {},
   "outputs": [
    {
     "data": {
      "image/png": "[encoded data removed]",
      "text/plain": [
       "<matplotlib.figure.Figure at 0x1513755940>"
      ]
     },
     "metadata": {},
     "output_type": "display_data"
    }
   ],
   "source": [
    "# プロット\n",
    "plt.xlabel(\"K\")\n",
    "plt.ylabel(\"BIC\")    \n",
    "plt.plot(Klist,BIClist,'o',c='b')\n",
    "plt.show()"
   ]
  },
  {
   "cell_type": "code",
   "execution_count": null,
   "metadata": {
    "collapsed": true
   },
   "outputs": [],
   "source": []
  }
 ],
 "metadata": {
  "kernelspec": {
   "display_name": "Python 3",
   "language": "python",
   "name": "python3"
  },
  "language_info": {
   "codemirror_mode": {
    "name": "ipython",
    "version": 3
   },
   "file_extension": ".py",
   "mimetype": "text/x-python",
   "name": "python",
   "nbconvert_exporter": "python",
   "pygments_lexer": "ipython3",
   "version": "3.6.3"
  }
 },
 "nbformat": 4,
 "nbformat_minor": 2
}
